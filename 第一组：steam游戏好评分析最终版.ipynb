{
 "cells": [
  {
   "cell_type": "markdown",
   "metadata": {},
   "source": [
    "# steam游戏分析"
   ]
  },
  {
   "cell_type": "markdown",
   "metadata": {},
   "source": [
    "## 1 数据处理（兰家豪、祝昳雯）"
   ]
  },
  {
   "cell_type": "markdown",
   "metadata": {},
   "source": [
    "### 1.1 数据来源\n",
    "steam游戏榜/样本容量：561个"
   ]
  },
  {
   "cell_type": "markdown",
   "metadata": {},
   "source": [
    "### 1.2 数据爬取\n"
   ]
  },
  {
   "cell_type": "code",
   "execution_count": null,
   "metadata": {},
   "outputs": [],
   "source": [
    "#爬取游戏列表及网址\n",
    "import requests\n",
    "from bs4 import BeautifulSoup\n",
    "import re\n",
    "import pandas as pd\n",
    "\n",
    "headers = {'User-Agent': 'Mozilla/5.0'}\n",
    "#替换你自己的headers\n",
    "n =26\n",
    "#n代表爬取到多少页\n",
    "path = '11.xlsx'\n",
    "#修改你的保存位置\n",
    "\n",
    "def getgamelist(n):\n",
    "    linklist=[]\n",
    "    IDlist = []\n",
    "    for pagenum in range(0,n):\n",
    "        r = requests.get('https://store.steampowered.com/search/?ignore_preferences=1&category1=998&os=win&filter=globaltopsellers&page=%d'%pagenum,headers=headers)\n",
    "        soup = BeautifulSoup(r.text, 'lxml')\n",
    "        soups= soup.find_all(href=re.compile(r\"https://store.steampowered.com/app/\"),class_=\"search_result_row ds_collapse_flag\")\n",
    "        for i in soups:\n",
    "            i = i.attrs\n",
    "            i = i['href']\n",
    "            link = re.search('https://store.steampowered.com/app/(\\d*?)/',i).group()\n",
    "            ID = re.search('https://store.steampowered.com/app/(\\d*?)/(.*?)/', i).group(1)\n",
    "            linklist.append(link)\n",
    "            IDlist.append(ID)\n",
    "        print('已完成'+str(pagenum)+'页,目前共'+str(len(linklist)))\n",
    "    return linklist,IDlist\n",
    "\n",
    "def getdf(n):#转df\n",
    "    linklist,IDlist = getgamelist(n)\n",
    "    df = pd.DataFrame(list(zip(linklist,IDlist)),\n",
    "               columns =['Link', 'ID'])\n",
    "    return df\n",
    "if __name__ == \"__main__\":\n",
    "    df = getdf(n)#n代表爬取到多少页\n",
    "    df.to_excel(path)#储存"
   ]
  },
  {
   "cell_type": "code",
   "execution_count": null,
   "metadata": {},
   "outputs": [],
   "source": [
    "#按游戏列表爬取各游戏信息\n",
    "def gamename(soup):   #游戏名字\n",
    "    try:\n",
    "        a = soup.find(class_=\"apphub_AppName\")\n",
    "        k = str(a.string)\n",
    "    except:\n",
    "        a = soup.find(class_=\"apphub_AppName\")\n",
    "        k = str(a.text)\n",
    "    return k\n",
    "\n",
    "def gameprice(soup):#价格\n",
    "    try:\n",
    "        a = soup.findAll(class_=\"discount_original_price\")\n",
    "        for i in a:\n",
    "            if re.search('¥|free|免费', str(i),re.IGNORECASE):\n",
    "                a = i\n",
    "        k = str(a.string).replace('\t', '').replace('\\n', '').replace('\\r', '').replace(' ', '')\n",
    "    except:\n",
    "        a = soup.findAll(class_=\"game_purchase_price price\")\n",
    "        for i in a:\n",
    "            if re.search('¥|free|免费', str(i),re.IGNORECASE):\n",
    "                a = i\n",
    "        k = str(a.string).replace('\t', '').replace('\\n', '').replace('\\r', '').replace(' ', '')\n",
    "    return k\n",
    "\n",
    "def taglist(soup):#标签列表\n",
    "    list1=[]\n",
    "    a = soup.find_all(class_=\"app_tag\")\n",
    "    for i in a:\n",
    "        k = str(i.string).replace('\t', '').replace('\\n', '').replace('\\r', '')\n",
    "        if k == '+':\n",
    "            pass\n",
    "        else:\n",
    "            list1.append(k)\n",
    "    list1 = str('\\n'.join(list1))\n",
    "    return list1\n",
    "\n",
    "def description(soup):  #游戏描述\n",
    "    a = soup.find(class_=\"game_description_snippet\")\n",
    "    k = str(a.string).replace('\t', '').replace('\\n', '').replace('\\r', '')\n",
    "    return k\n",
    "\n",
    "def reviewsummary(soup):   #总体评价\n",
    "    a = soup.find(class_=\"summary column\")\n",
    "    try:\n",
    "        k = str(a.span.string)\n",
    "    except:\n",
    "        k=str(a.text)\n",
    "    return k\n",
    "\n",
    "def getdate(soup):   #发行日期\n",
    "    a = soup.find(class_=\"date\")\n",
    "    k = str(a.string)\n",
    "    return k\n",
    "\n",
    "def userreviewsrate(soup):#总体数量好评率\n",
    "    a = soup.find(class_=\"user_reviews_summary_row\")\n",
    "    k = str((a.attrs)['data-tooltip-html'])\n",
    "    return k\n",
    "\n",
    "def developer(soup):   #开发商\n",
    "    a = soup.find(id=\"developers_list\")\n",
    "    k = str(a.a.string)\n",
    "    return k\n",
    "\n",
    "def getreviews(ID):#获取评论\n",
    "    r1 = requests.get(\n",
    "        'https://store.steampowered.com/appreviews/%s?cursor=*&day_range=30&start_date=-1&end_date=-1&date_range_type=all&filter=summary&language=schinese&l=schinese&review_type=positive&purchase_type=all&playtime_filter_min=0&playtime_filter_max=0&filter_offtopic_activity=1'%str(ID),headers=headers,timeout=10)\n",
    "    soup = BeautifulSoup(r1.json()['html'], 'lxml')\n",
    "    a = soup.findAll(class_=\"content\")\n",
    "    list1 = []\n",
    "    for i in a:\n",
    "        list1.append(i.text.replace('\t', '').replace('\\n', '').replace('\\r', '').replace(' ', ','))\n",
    "    k=str('\\n'.join(list1))\n",
    "    return k\n",
    "\n",
    "def getdetail(x):\n",
    "    tag, des, reviews, date, rate, dev, review,name,price = ' ', ' ', ' ', ' ', ' ', ' ', ' ',' ',' '\n",
    "    global count\n",
    "    try:\n",
    "        r = requests.get(x['Link'], headers=headers,timeout=10)\n",
    "    except:\n",
    "        print('服务器无响应1')\n",
    "        try:\n",
    "            r = requests.get(x['Link'], headers=headers,timeout=10)\n",
    "        except:\n",
    "            print('服务器无响应2')\n",
    "            try:\n",
    "                r = requests.get(x['Link'], headers=headers,timeout=10)\n",
    "            except:\n",
    "                print('服务器无响应3')\n",
    "\n",
    "    try:\n",
    "        soup = BeautifulSoup(r.text, 'lxml')\n",
    "        name = gamename(soup)\n",
    "        tag = taglist(soup)\n",
    "        des = description(soup)\n",
    "        reviews = reviewsummary(soup)\n",
    "        date = getdate(soup)\n",
    "        rate = userreviewsrate(soup)\n",
    "        dev = developer(soup)\n",
    "        review = getreviews(str(x['ID']))\n",
    "        price = gameprice(soup)\n",
    "        print('已完成: '+name+str(x['ID'])+'第%d个'%count)\n",
    "    except:\n",
    "        print('未完成:  '+str(x['ID'])+'第%d个'%count)\n",
    "        price = 'error'\n",
    "\n",
    "    count += 1\n",
    "    return name,price,tag,des,reviews,date,rate,dev,review\n",
    "\n",
    "\n",
    "if __name__ == \"__main__\":\n",
    "    df1 = pd.read_excel('1.xlsx')\n",
    "    count = 1\n",
    "    df1['详细'] = df1.apply(lambda x: getdetail(x), axis=1)\n",
    "    df1['名字'] = df1.apply(lambda x: x['详细'][0], axis=1)\n",
    "    df1['价格'] = df1.apply(lambda x: x['详细'][1], axis=1)\n",
    "    df1['标签'] = df1.apply(lambda x: x['详细'][2], axis=1)\n",
    "    df1['描述'] = df1.apply(lambda x: x['详细'][3], axis=1)\n",
    "    df1['近期评价'] = df1.apply(lambda x: x['详细'][4], axis=1)\n",
    "    df1['发行日期'] = df1.apply(lambda x: x['详细'][5], axis=1)\n",
    "    df1['近期数量好评率'] = df1.apply(lambda x: x['详细'][6], axis=1)\n",
    "    df1['开发商'] = df1.apply(lambda x: x['详细'][7], axis=1)\n",
    "    df1['评论'] = df1.apply(lambda x: x['详细'][8], axis=1)\n",
    "    \n",
    "    df1.to_excel('positive.xlsx')\n",
    "    print('已完成全部')"
   ]
  },
  {
   "cell_type": "markdown",
   "metadata": {},
   "source": [
    "### 1.3 数据清洗"
   ]
  },
  {
   "cell_type": "markdown",
   "metadata": {},
   "source": [
    "#### 1.3.1 清理无效数据"
   ]
  },
  {
   "cell_type": "code",
   "execution_count": null,
   "metadata": {},
   "outputs": [],
   "source": [
    "#清理error行并整理价格的格式\n",
    "import pandas as pd\n",
    "df1 = pd.read_excel('positive.xlsx')\n",
    "df2=df1[-df1.价格.isin(['error'])]\n",
    "df3=df2[-df2.近期数量好评率.isin(['No user reviews'])]\n",
    "df3['价格']=df3['价格'].str.replace('FreeToPlay','$0')\n",
    "df3['价格']=df3['价格'].str.replace('reetoPlay','0')\n",
    "df3['价格']=df3['价格'].str.replace('ree','0')\n",
    "df3['价格']=df3['价格'].str.replace('layforF0!','0')\n",
    "jiage=df3['价格']\n",
    "pricelist=[]\n",
    "#去掉￥\n",
    "for jg in jiage:\n",
    "    jg1=jg[1:]\n",
    "    pricelist.append(jg1)\n",
    "#df3['评论']"
   ]
  },
  {
   "cell_type": "markdown",
   "metadata": {},
   "source": [
    "#### 1.3.2 转换数据格式"
   ]
  },
  {
   "cell_type": "code",
   "execution_count": null,
   "metadata": {},
   "outputs": [],
   "source": [
    "#去掉价格千分位并转换int格式\n",
    "import locale\n",
    "locale.setlocale( locale.LC_ALL, 'en_US.UTF-8' ) \n",
    "pricelist1=[]\n",
    "for i in range(len(pricelist)):\n",
    "    a=locale.atoi(pricelist[i])\n",
    "    pricelist1.append(a)\n",
    "pricelist1=[int(x) for x in pricelist1]"
   ]
  },
  {
   "cell_type": "code",
   "execution_count": null,
   "metadata": {},
   "outputs": [],
   "source": [
    "#删除游戏评论列（减少内存占用）\n",
    "df4=df3.reset_index(drop=True)\n",
    "df5=df4.drop(columns=['评论'])\n",
    "#df5.to_excel('negative.xls')😘\n",
    "#转换日期格式+提取年数据\n",
    "df5['发行日期'] = pd.to_datetime(df5['发行日期'] )\n",
    "df5['年'] = df5['发行日期'].dt.year\n",
    "#提取近期数量好评率里的评价人数和好评率\n",
    "num_raw=[]\n",
    "rate=[]\n",
    "for i in range(len(df5['近期数量好评率'])):\n",
    "    rating=df5['近期数量好评率'][i]\n",
    "    ratinglist=rating.split()\n",
    "    rate_per=ratinglist[0]\n",
    "    month_num=ratinglist[3]\n",
    "    num_raw.append(month_num)\n",
    "    rate.append(rate_per)\n",
    "locale.setlocale( locale.LC_ALL, 'en_US.UTF-8' ) \n",
    "num=[]\n",
    "for i in range(len(num_raw)):\n",
    "    a=locale.atoi(num_raw[i])\n",
    "    num.append(a)\n",
    "num_final=[int(x) for x in num]\n",
    "df5['近期评价人数']=num\n",
    "df5['近期好评率']=rate\n",
    "df5.to_excel('negative.xls')"
   ]
  },
  {
   "cell_type": "code",
   "execution_count": null,
   "metadata": {},
   "outputs": [],
   "source": [
    "#单独提取好评和差评\n",
    "cm=df4['评论']\n",
    "cmlist=[]\n",
    "for i in range(0,len(cm)):\n",
    "    b=cm[i]\n",
    "    cmlist.append(b)\n",
    "ng_cm=pd.DataFrame(cmlist)\n",
    "#ng_cm.to_excel('pt_cm.xls')\n",
    "#ng_cm.to_excel('ng_cm.xls')\n",
    "cmlist"
   ]
  },
  {
   "cell_type": "code",
   "execution_count": null,
   "metadata": {},
   "outputs": [],
   "source": [
    "#提取游戏标签，根据标签出现次数统计好评率\n",
    "import pandas as pd\n",
    "df=pd.read_excel('basic_info(1).xlsx')\n",
    "a=df['标签']\n",
    "tg_cm_list=[]\n",
    "for i in range(len(a)):\n",
    "    b=a[i]\n",
    "    c=b.split('\\n')\n",
    "    haopinglv=df['近期好评率']\n",
    "    d=haopinglv[i]\n",
    "    list=[d for x in range(len(c))]\n",
    "    zipped=zip(c,list)#dic=dict(map(lambda x,y:[x,y],c,list))\n",
    "    df_zipped=pd.DataFrame(zipped)\n",
    "    df_zipped.columns=['tag','rate']\n",
    "    tg_cm_list.append(df_zipped)\n",
    "tg_cm_list[560]\n",
    "#data=pd.DataFrame(zipped)\n",
    "#生成标签和好评率的df\n",
    "final=tg_cm_list[0]\n",
    "for x in range(len(tg_cm_list)):\n",
    "    final=pd.merge(final,tg_cm_list[x],on='tag',how='outer')\n",
    "final"
   ]
  },
  {
   "cell_type": "code",
   "execution_count": null,
   "metadata": {},
   "outputs": [],
   "source": [
    "#提取游戏标签，根据标签出现次数统计好评人数\n",
    "a=df['标签']\n",
    "tg_num_list=[]\n",
    "for i in range(len(a)):\n",
    "    b=a[i]\n",
    "    c=b.split('\\n')\n",
    "    df['好评人数']=df['近期好评率']*df['近期评价人数']\n",
    "    haopingrenshu=df['好评人数']\n",
    "    d=haopingrenshu[i]\n",
    "    list=[d for x in range(len(c))]\n",
    "    zipped=zip(c,list)#dic=dict(map(lambda x,y:[x,y],c,list))\n",
    "    df_zipped=pd.DataFrame(zipped)\n",
    "    df_zipped.columns=['tag','num']\n",
    "    tg_num_list.append(df_zipped)\n",
    "tg_num_list[1]\n",
    "#生成标签和好评人数的df并储存\n",
    "from functools import reduce\n",
    "df_final = reduce(lambda left, right: pd.merge(left, right, on='tag',how='outer'), tg_num_list)\n",
    "df_final.to_excel('标签好评人数.xlsx')"
   ]
  },
  {
   "cell_type": "code",
   "execution_count": null,
   "metadata": {},
   "outputs": [],
   "source": [
    "#查看tag是否重复\n",
    "print(final.index.is_unique)"
   ]
  },
  {
   "cell_type": "code",
   "execution_count": null,
   "metadata": {},
   "outputs": [],
   "source": [
    "#统计各标签好评率的平均值\n",
    "final['ave']=final.mean(1)\n",
    "tg_cm=final[['tag','ave']]\n",
    "tg_cm.to_excel('标签平均好评率.xls')"
   ]
  },
  {
   "cell_type": "markdown",
   "metadata": {},
   "source": [
    "#### 1.3.3 根据标签汇总评论"
   ]
  },
  {
   "cell_type": "code",
   "execution_count": null,
   "metadata": {},
   "outputs": [],
   "source": [
    "#根据标签提取评价并汇总\n",
    "import pandas as pd\n",
    "df=pd.read_excel('positive.xlsx')\n",
    "a=df['标签']\n",
    "tg_cm_list=[]\n",
    "for i in range(len(a)):\n",
    "    b=a[i]\n",
    "    c=b.split('\\n')\n",
    "    haopinglv=df['评论']\n",
    "    d=haopinglv[i]\n",
    "    list=[d for x in range(len(c))]\n",
    "    zipped=zip(c,list)#dic=dict(map(lambda x,y:[x,y],c,list))\n",
    "    df_zipped=pd.DataFrame(zipped)\n",
    "    df_zipped.columns=['tag','rate']\n",
    "    tg_cm_list.append(df_zipped)\n",
    "#tg_cm_list[560]\n",
    "#data=pd.DataFrame(zipped)\n",
    "tg=final['tag']\n",
    "tg_list=[]\n",
    "for i in range(0,371):\n",
    "    tg_single=tg[i]\n",
    "    tg_list.append(tg_single)\n",
    "len(tg_list)\n",
    "\n",
    "#汇总好评\n",
    "tg_cm_list1=[]\n",
    "for tag in tg_list:\n",
    "    tg_cm_list2=[]\n",
    "    for x in range(len(a)):\n",
    "        if tag in str(a[x]):\n",
    "            tg_cm_list2.append(haopinglv[x])\n",
    "    tg_cm_list1.append(tg_cm_list2)    \n",
    "\n",
    "#将tag变为行索引\n",
    "df1=pd.DataFrame(tg_cm_list1)\n",
    "df1.index=tg_list\n",
    "df1\n",
    "\n",
    "\n",
    "df1.to_excel('tag_cm.xlsx')"
   ]
  },
  {
   "cell_type": "markdown",
   "metadata": {},
   "source": [
    "## 2 数据分析(朱佳露）"
   ]
  },
  {
   "cell_type": "markdown",
   "metadata": {},
   "source": [
    "### 2.1 市场分析（开发商角度）"
   ]
  },
  {
   "cell_type": "code",
   "execution_count": 15,
   "metadata": {},
   "outputs": [],
   "source": [
    "import pandas as pd\n",
    "import numpy as np"
   ]
  },
  {
   "cell_type": "code",
   "execution_count": 35,
   "metadata": {},
   "outputs": [],
   "source": [
    "#数据可视化、市场分析和相关分析\n",
    "data1 = pd.read_excel('basic_info.xlsx')\n",
    "data = data1.iloc[:,4:]\n",
    "data['近期好评率'].describe()"
   ]
  },
  {
   "cell_type": "code",
   "execution_count": 17,
   "metadata": {},
   "outputs": [
    {
     "name": "stdout",
     "output_type": "stream",
     "text": [
      "(562, 14)\n"
     ]
    },
    {
     "data": {
      "text/plain": [
       "406"
      ]
     },
     "execution_count": 17,
     "metadata": {},
     "output_type": "execute_result"
    }
   ],
   "source": [
    "print(data.shape)\n",
    "data['开发商'].nunique()"
   ]
  },
  {
   "cell_type": "code",
   "execution_count": 18,
   "metadata": {},
   "outputs": [
    {
     "data": {
      "text/html": [
       "<div>\n",
       "<style scoped>\n",
       "    .dataframe tbody tr th:only-of-type {\n",
       "        vertical-align: middle;\n",
       "    }\n",
       "\n",
       "    .dataframe tbody tr th {\n",
       "        vertical-align: top;\n",
       "    }\n",
       "\n",
       "    .dataframe thead th {\n",
       "        text-align: right;\n",
       "    }\n",
       "</style>\n",
       "<table border=\"1\" class=\"dataframe\">\n",
       "  <thead>\n",
       "    <tr style=\"text-align: right;\">\n",
       "      <th></th>\n",
       "      <th>开发商</th>\n",
       "      <th>近期好评率</th>\n",
       "    </tr>\n",
       "  </thead>\n",
       "  <tbody>\n",
       "    <tr>\n",
       "      <th>133</th>\n",
       "      <td>GB Patch Games</td>\n",
       "      <td>100.0</td>\n",
       "    </tr>\n",
       "    <tr>\n",
       "      <th>400</th>\n",
       "      <td>mestiez</td>\n",
       "      <td>99.0</td>\n",
       "    </tr>\n",
       "    <tr>\n",
       "      <th>392</th>\n",
       "      <td>Wube Software LTD.</td>\n",
       "      <td>99.0</td>\n",
       "    </tr>\n",
       "    <tr>\n",
       "      <th>214</th>\n",
       "      <td>Mega Crit Games</td>\n",
       "      <td>98.0</td>\n",
       "    </tr>\n",
       "    <tr>\n",
       "      <th>195</th>\n",
       "      <td>Landfall</td>\n",
       "      <td>98.0</td>\n",
       "    </tr>\n",
       "    <tr>\n",
       "      <th>347</th>\n",
       "      <td>Team Reptile</td>\n",
       "      <td>98.0</td>\n",
       "    </tr>\n",
       "    <tr>\n",
       "      <th>77</th>\n",
       "      <td>ConcernedApe</td>\n",
       "      <td>98.0</td>\n",
       "    </tr>\n",
       "    <tr>\n",
       "      <th>327</th>\n",
       "      <td>Steel Crate Games</td>\n",
       "      <td>98.0</td>\n",
       "    </tr>\n",
       "    <tr>\n",
       "      <th>247</th>\n",
       "      <td>Oskar Stålberg</td>\n",
       "      <td>98.0</td>\n",
       "    </tr>\n",
       "    <tr>\n",
       "      <th>99</th>\n",
       "      <td>Draw Me A Pixel</td>\n",
       "      <td>98.0</td>\n",
       "    </tr>\n",
       "  </tbody>\n",
       "</table>\n",
       "</div>"
      ],
      "text/plain": [
       "                    开发商  近期好评率\n",
       "133      GB Patch Games  100.0\n",
       "400             mestiez   99.0\n",
       "392  Wube Software LTD.   99.0\n",
       "214     Mega Crit Games   98.0\n",
       "195            Landfall   98.0\n",
       "347        Team Reptile   98.0\n",
       "77         ConcernedApe   98.0\n",
       "327   Steel Crate Games   98.0\n",
       "247      Oskar Stålberg   98.0\n",
       "99      Draw Me A Pixel   98.0"
      ]
     },
     "execution_count": 18,
     "metadata": {},
     "output_type": "execute_result"
    }
   ],
   "source": [
    "#关于开发商的市场分析\n",
    "data['近期好评率'] = data['近期好评率']*100\n",
    "data['销售额'] = data['价格']*data['近期评价人数']\n",
    "data.sort_values('销售额',ascending = False)\n",
    "table1 = data.groupby(['开发商'])['近期好评率'].mean().reset_index()\n",
    "table2 = table1.sort_values('近期好评率',ascending=False)\n",
    "table2.head(10)"
   ]
  },
  {
   "cell_type": "code",
   "execution_count": 19,
   "metadata": {},
   "outputs": [
    {
     "data": {
      "text/html": [
       "<div>\n",
       "<style scoped>\n",
       "    .dataframe tbody tr th:only-of-type {\n",
       "        vertical-align: middle;\n",
       "    }\n",
       "\n",
       "    .dataframe tbody tr th {\n",
       "        vertical-align: top;\n",
       "    }\n",
       "\n",
       "    .dataframe thead th {\n",
       "        text-align: right;\n",
       "    }\n",
       "</style>\n",
       "<table border=\"1\" class=\"dataframe\">\n",
       "  <thead>\n",
       "    <tr style=\"text-align: right;\">\n",
       "      <th></th>\n",
       "      <th>开发商</th>\n",
       "      <th>开发游戏个数</th>\n",
       "    </tr>\n",
       "  </thead>\n",
       "  <tbody>\n",
       "    <tr>\n",
       "      <th>380</th>\n",
       "      <td>Valve</td>\n",
       "      <td>13</td>\n",
       "    </tr>\n",
       "    <tr>\n",
       "      <th>366</th>\n",
       "      <td>USERJOY Technology Co.,Ltd.</td>\n",
       "      <td>7</td>\n",
       "    </tr>\n",
       "    <tr>\n",
       "      <th>18</th>\n",
       "      <td>Arc System Works</td>\n",
       "      <td>7</td>\n",
       "    </tr>\n",
       "    <tr>\n",
       "      <th>371</th>\n",
       "      <td>Ubisoft Montreal</td>\n",
       "      <td>7</td>\n",
       "    </tr>\n",
       "    <tr>\n",
       "      <th>62</th>\n",
       "      <td>CREATIVE ASSEMBLY</td>\n",
       "      <td>7</td>\n",
       "    </tr>\n",
       "    <tr>\n",
       "      <th>322</th>\n",
       "      <td>Spike Chunsoft Co., Ltd.</td>\n",
       "      <td>7</td>\n",
       "    </tr>\n",
       "    <tr>\n",
       "      <th>180</th>\n",
       "      <td>KOEI TECMO GAMES CO., LTD.</td>\n",
       "      <td>7</td>\n",
       "    </tr>\n",
       "    <tr>\n",
       "      <th>85</th>\n",
       "      <td>CyberConnect2 Co. Ltd.</td>\n",
       "      <td>6</td>\n",
       "    </tr>\n",
       "    <tr>\n",
       "      <th>255</th>\n",
       "      <td>Paradox Development Studio</td>\n",
       "      <td>5</td>\n",
       "    </tr>\n",
       "    <tr>\n",
       "      <th>58</th>\n",
       "      <td>CAPCOM Co., Ltd.</td>\n",
       "      <td>5</td>\n",
       "    </tr>\n",
       "  </tbody>\n",
       "</table>\n",
       "</div>"
      ],
      "text/plain": [
       "                             开发商  开发游戏个数\n",
       "380                        Valve      13\n",
       "366  USERJOY Technology Co.,Ltd.       7\n",
       "18              Arc System Works       7\n",
       "371             Ubisoft Montreal       7\n",
       "62             CREATIVE ASSEMBLY       7\n",
       "322     Spike Chunsoft Co., Ltd.       7\n",
       "180   KOEI TECMO GAMES CO., LTD.       7\n",
       "85        CyberConnect2 Co. Ltd.       6\n",
       "255   Paradox Development Studio       5\n",
       "58              CAPCOM Co., Ltd.       5"
      ]
     },
     "execution_count": 19,
     "metadata": {},
     "output_type": "execute_result"
    }
   ],
   "source": [
    "table3 = data.groupby(['开发商'])['开发商'].count().reset_index(name = '开发游戏个数')\n",
    "table4 = table3.sort_values('开发游戏个数',ascending = False)\n",
    "table4.head(10)"
   ]
  },
  {
   "cell_type": "code",
   "execution_count": 20,
   "metadata": {},
   "outputs": [
    {
     "data": {
      "text/html": [
       "<div>\n",
       "<style scoped>\n",
       "    .dataframe tbody tr th:only-of-type {\n",
       "        vertical-align: middle;\n",
       "    }\n",
       "\n",
       "    .dataframe tbody tr th {\n",
       "        vertical-align: top;\n",
       "    }\n",
       "\n",
       "    .dataframe thead th {\n",
       "        text-align: right;\n",
       "    }\n",
       "</style>\n",
       "<table border=\"1\" class=\"dataframe\">\n",
       "  <thead>\n",
       "    <tr style=\"text-align: right;\">\n",
       "      <th></th>\n",
       "      <th>开发商</th>\n",
       "      <th>销售额</th>\n",
       "    </tr>\n",
       "  </thead>\n",
       "  <tbody>\n",
       "    <tr>\n",
       "      <th>135</th>\n",
       "      <td>Gaijin Entertainment</td>\n",
       "      <td>23661840</td>\n",
       "    </tr>\n",
       "    <tr>\n",
       "      <th>58</th>\n",
       "      <td>CAPCOM Co., Ltd.</td>\n",
       "      <td>21402685</td>\n",
       "    </tr>\n",
       "    <tr>\n",
       "      <th>169</th>\n",
       "      <td>Innersloth</td>\n",
       "      <td>19568392</td>\n",
       "    </tr>\n",
       "    <tr>\n",
       "      <th>371</th>\n",
       "      <td>Ubisoft Montreal</td>\n",
       "      <td>14807486</td>\n",
       "    </tr>\n",
       "    <tr>\n",
       "      <th>211</th>\n",
       "      <td>Maxis</td>\n",
       "      <td>13764560</td>\n",
       "    </tr>\n",
       "    <tr>\n",
       "      <th>32</th>\n",
       "      <td>Behaviour Interactive Inc.</td>\n",
       "      <td>10244094</td>\n",
       "    </tr>\n",
       "    <tr>\n",
       "      <th>55</th>\n",
       "      <td>Bungie</td>\n",
       "      <td>9778910</td>\n",
       "    </tr>\n",
       "    <tr>\n",
       "      <th>300</th>\n",
       "      <td>SCS Software</td>\n",
       "      <td>9544332</td>\n",
       "    </tr>\n",
       "    <tr>\n",
       "      <th>176</th>\n",
       "      <td>Jagex</td>\n",
       "      <td>6103768</td>\n",
       "    </tr>\n",
       "    <tr>\n",
       "      <th>336</th>\n",
       "      <td>Studio Wildcard</td>\n",
       "      <td>5467594</td>\n",
       "    </tr>\n",
       "    <tr>\n",
       "      <th>102</th>\n",
       "      <td>Eagle Dynamics SA</td>\n",
       "      <td>5416684</td>\n",
       "    </tr>\n",
       "    <tr>\n",
       "      <th>187</th>\n",
       "      <td>Kinetic Games</td>\n",
       "      <td>4813505</td>\n",
       "    </tr>\n",
       "    <tr>\n",
       "      <th>294</th>\n",
       "      <td>Rockstar Games</td>\n",
       "      <td>4187904</td>\n",
       "    </tr>\n",
       "    <tr>\n",
       "      <th>255</th>\n",
       "      <td>Paradox Development Studio</td>\n",
       "      <td>3393306</td>\n",
       "    </tr>\n",
       "    <tr>\n",
       "      <th>122</th>\n",
       "      <td>Firaxis Games</td>\n",
       "      <td>3113210</td>\n",
       "    </tr>\n",
       "    <tr>\n",
       "      <th>380</th>\n",
       "      <td>Valve</td>\n",
       "      <td>2817049</td>\n",
       "    </tr>\n",
       "    <tr>\n",
       "      <th>59</th>\n",
       "      <td>CD PROJEKT RED</td>\n",
       "      <td>2462955</td>\n",
       "    </tr>\n",
       "    <tr>\n",
       "      <th>46</th>\n",
       "      <td>Blue Mammoth Games</td>\n",
       "      <td>2371296</td>\n",
       "    </tr>\n",
       "    <tr>\n",
       "      <th>189</th>\n",
       "      <td>Klei Entertainment</td>\n",
       "      <td>2233889</td>\n",
       "    </tr>\n",
       "    <tr>\n",
       "      <th>253</th>\n",
       "      <td>PUBG Corporation</td>\n",
       "      <td>2211528</td>\n",
       "    </tr>\n",
       "  </tbody>\n",
       "</table>\n",
       "</div>"
      ],
      "text/plain": [
       "                            开发商       销售额\n",
       "135        Gaijin Entertainment  23661840\n",
       "58             CAPCOM Co., Ltd.  21402685\n",
       "169                  Innersloth  19568392\n",
       "371            Ubisoft Montreal  14807486\n",
       "211                       Maxis  13764560\n",
       "32   Behaviour Interactive Inc.  10244094\n",
       "55                       Bungie   9778910\n",
       "300                SCS Software   9544332\n",
       "176                       Jagex   6103768\n",
       "336             Studio Wildcard   5467594\n",
       "102           Eagle Dynamics SA   5416684\n",
       "187               Kinetic Games   4813505\n",
       "294              Rockstar Games   4187904\n",
       "255  Paradox Development Studio   3393306\n",
       "122               Firaxis Games   3113210\n",
       "380                       Valve   2817049\n",
       "59               CD PROJEKT RED   2462955\n",
       "46           Blue Mammoth Games   2371296\n",
       "189          Klei Entertainment   2233889\n",
       "253            PUBG Corporation   2211528"
      ]
     },
     "execution_count": 20,
     "metadata": {},
     "output_type": "execute_result"
    }
   ],
   "source": [
    "#销售额计算来源\n",
    "table5 = data.groupby(['开发商'])['销售额'].sum().reset_index()\n",
    "table6 = table5.sort_values('销售额',ascending=False)\n",
    "table6.head(20)"
   ]
  },
  {
   "cell_type": "code",
   "execution_count": 21,
   "metadata": {},
   "outputs": [
    {
     "data": {
      "text/html": [
       "<div>\n",
       "<style scoped>\n",
       "    .dataframe tbody tr th:only-of-type {\n",
       "        vertical-align: middle;\n",
       "    }\n",
       "\n",
       "    .dataframe tbody tr th {\n",
       "        vertical-align: top;\n",
       "    }\n",
       "\n",
       "    .dataframe thead th {\n",
       "        text-align: right;\n",
       "    }\n",
       "</style>\n",
       "<table border=\"1\" class=\"dataframe\">\n",
       "  <thead>\n",
       "    <tr style=\"text-align: right;\">\n",
       "      <th></th>\n",
       "      <th>index</th>\n",
       "      <th>开发商</th>\n",
       "      <th>销售额</th>\n",
       "      <th>近期好评率</th>\n",
       "      <th>开发游戏个数</th>\n",
       "      <th>市场份额</th>\n",
       "    </tr>\n",
       "  </thead>\n",
       "  <tbody>\n",
       "    <tr>\n",
       "      <th>0</th>\n",
       "      <td>0</td>\n",
       "      <td>Gaijin Entertainment</td>\n",
       "      <td>23661840</td>\n",
       "      <td>81.000000</td>\n",
       "      <td>2</td>\n",
       "      <td>10.020913</td>\n",
       "    </tr>\n",
       "    <tr>\n",
       "      <th>1</th>\n",
       "      <td>1</td>\n",
       "      <td>CAPCOM Co., Ltd.</td>\n",
       "      <td>21402685</td>\n",
       "      <td>89.600000</td>\n",
       "      <td>5</td>\n",
       "      <td>9.064149</td>\n",
       "    </tr>\n",
       "    <tr>\n",
       "      <th>2</th>\n",
       "      <td>2</td>\n",
       "      <td>Innersloth</td>\n",
       "      <td>19568392</td>\n",
       "      <td>96.000000</td>\n",
       "      <td>2</td>\n",
       "      <td>8.287316</td>\n",
       "    </tr>\n",
       "    <tr>\n",
       "      <th>3</th>\n",
       "      <td>3</td>\n",
       "      <td>Ubisoft Montreal</td>\n",
       "      <td>14807486</td>\n",
       "      <td>87.714286</td>\n",
       "      <td>7</td>\n",
       "      <td>6.271047</td>\n",
       "    </tr>\n",
       "    <tr>\n",
       "      <th>4</th>\n",
       "      <td>4</td>\n",
       "      <td>Maxis</td>\n",
       "      <td>13764560</td>\n",
       "      <td>89.000000</td>\n",
       "      <td>2</td>\n",
       "      <td>5.829363</td>\n",
       "    </tr>\n",
       "    <tr>\n",
       "      <th>5</th>\n",
       "      <td>5</td>\n",
       "      <td>Behaviour Interactive Inc.</td>\n",
       "      <td>10244094</td>\n",
       "      <td>87.000000</td>\n",
       "      <td>2</td>\n",
       "      <td>4.338427</td>\n",
       "    </tr>\n",
       "    <tr>\n",
       "      <th>6</th>\n",
       "      <td>6</td>\n",
       "      <td>Bungie</td>\n",
       "      <td>9778910</td>\n",
       "      <td>82.000000</td>\n",
       "      <td>2</td>\n",
       "      <td>4.141419</td>\n",
       "    </tr>\n",
       "    <tr>\n",
       "      <th>7</th>\n",
       "      <td>7</td>\n",
       "      <td>SCS Software</td>\n",
       "      <td>9544332</td>\n",
       "      <td>97.000000</td>\n",
       "      <td>3</td>\n",
       "      <td>4.042074</td>\n",
       "    </tr>\n",
       "    <tr>\n",
       "      <th>8</th>\n",
       "      <td>8</td>\n",
       "      <td>Jagex</td>\n",
       "      <td>6103768</td>\n",
       "      <td>87.000000</td>\n",
       "      <td>2</td>\n",
       "      <td>2.584978</td>\n",
       "    </tr>\n",
       "    <tr>\n",
       "      <th>9</th>\n",
       "      <td>9</td>\n",
       "      <td>Studio Wildcard</td>\n",
       "      <td>5467594</td>\n",
       "      <td>88.000000</td>\n",
       "      <td>2</td>\n",
       "      <td>2.315555</td>\n",
       "    </tr>\n",
       "  </tbody>\n",
       "</table>\n",
       "</div>"
      ],
      "text/plain": [
       "   index                         开发商       销售额      近期好评率  开发游戏个数       市场份额\n",
       "0      0        Gaijin Entertainment  23661840  81.000000       2  10.020913\n",
       "1      1            CAPCOM Co., Ltd.  21402685  89.600000       5   9.064149\n",
       "2      2                  Innersloth  19568392  96.000000       2   8.287316\n",
       "3      3            Ubisoft Montreal  14807486  87.714286       7   6.271047\n",
       "4      4                       Maxis  13764560  89.000000       2   5.829363\n",
       "5      5  Behaviour Interactive Inc.  10244094  87.000000       2   4.338427\n",
       "6      6                      Bungie   9778910  82.000000       2   4.141419\n",
       "7      7                SCS Software   9544332  97.000000       3   4.042074\n",
       "8      8                       Jagex   6103768  87.000000       2   2.584978\n",
       "9      9             Studio Wildcard   5467594  88.000000       2   2.315555"
      ]
     },
     "execution_count": 21,
     "metadata": {},
     "output_type": "execute_result"
    }
   ],
   "source": [
    "table7 = pd.merge(table1,table3)\n",
    "table8 = pd.merge(table6,table7,how = 'left').reset_index()\n",
    "total_sales = table8['销售额'].sum()\n",
    "table8 ['市场份额'] = table8['销售额']/total_sales*100\n",
    "table9 = table8.iloc[0:10,:]\n",
    "table9"
   ]
  },
  {
   "cell_type": "code",
   "execution_count": 22,
   "metadata": {
    "scrolled": true
   },
   "outputs": [
    {
     "name": "stdout",
     "output_type": "stream",
     "text": [
      "前十开发商的市场分额为: 56.90% \n"
     ]
    }
   ],
   "source": [
    "market_share_of_top10 = table9['市场份额'].sum()\n",
    "print('前十开发商的市场份额为: %.2f%% '%market_share_of_top10 )"
   ]
  },
  {
   "cell_type": "markdown",
   "metadata": {},
   "source": [
    "### 2.2 行业分析（游戏角度）"
   ]
  },
  {
   "cell_type": "code",
   "execution_count": 8,
   "metadata": {},
   "outputs": [
    {
     "data": {
      "image/png": "[encoded data removed]",
      "text/plain": [
       "<Figure size 4000x1000 with 1 Axes>"
      ]
     },
     "metadata": {},
     "output_type": "display_data"
    }
   ],
   "source": [
    "x1= data.groupby('年')['价格'].mean().to_frame().reset_index().sort_values(by='年')#按年分组，求平均价格\n",
    "\n",
    "plt.figure(figsize=(20, 5),dpi = 200)\n",
    "plt.plot(x1['年'],x1['价格'], c='r',label='mean price')\n",
    "plt.xlabel('year',fontsize=20)\n",
    "plt.ylabel('price',fontsize=20)\n",
    "plt.legend()\n",
    "plt.title('year&price')\n",
    "plt.xticks(range(2000,2021))\n",
    "plt.yticks(range(0,1200,200))\n",
    "plt.show()"
   ]
  },
  {
   "cell_type": "code",
   "execution_count": 9,
   "metadata": {},
   "outputs": [
    {
     "data": {
      "image/png": "[encoded data removed]",
      "text/plain": [
       "<Figure size 4000x1000 with 1 Axes>"
      ]
     },
     "metadata": {},
     "output_type": "display_data"
    }
   ],
   "source": [
    "x2 = data.groupby('年')['近期好评率'].mean().to_frame().reset_index().sort_values(by='年')\n",
    "plt.figure(figsize=(20, 5),dpi = 200)\n",
    "plt.plot(x2['年'],x2['近期好评率'], c='c',label='rate %')\n",
    "plt.xlabel('year',fontsize=30)\n",
    "plt.ylabel('rate',fontsize=30)\n",
    "plt.legend()\n",
    "plt.title('year&rate',fontsize=40)\n",
    "plt.xticks(range(2000,2021))\n",
    "plt.yticks(range(80,105,5))\n",
    "plt.show()"
   ]
  },
  {
   "cell_type": "code",
   "execution_count": 31,
   "metadata": {},
   "outputs": [
    {
     "data": {
      "image/png": "[encoded data removed]",
      "text/plain": [
       "<Figure size 1440x720 with 2 Axes>"
      ]
     },
     "metadata": {},
     "output_type": "display_data"
    }
   ],
   "source": [
    "import matplotlib.pyplot as plt \n",
    "%matplotlib inline\n",
    "Y = data['价格'] \n",
    "X = data['发行日期']\n",
    "plt.style.use('ggplot')\n",
    "plt.figure(figsize=(20, 10))\n",
    "plt.scatter(X,Y,s=20, c=data['近期好评率'], alpha=.9,cmap=plt.get_cmap('RdYlBu'))\n",
    "plt.colorbar().set_label('Rate',fontsize=20)\n",
    "plt.xlabel('year',fontsize=20)\n",
    "plt.ylabel('price',fontsize=20)\n",
    "plt.show()"
   ]
  },
  {
   "cell_type": "code",
   "execution_count": 32,
   "metadata": {},
   "outputs": [
    {
     "data": {
      "text/html": [
       "<div>\n",
       "<style scoped>\n",
       "    .dataframe tbody tr th:only-of-type {\n",
       "        vertical-align: middle;\n",
       "    }\n",
       "\n",
       "    .dataframe tbody tr th {\n",
       "        vertical-align: top;\n",
       "    }\n",
       "\n",
       "    .dataframe thead th {\n",
       "        text-align: right;\n",
       "    }\n",
       "</style>\n",
       "<table border=\"1\" class=\"dataframe\">\n",
       "  <thead>\n",
       "    <tr style=\"text-align: right;\">\n",
       "      <th></th>\n",
       "      <th>Link</th>\n",
       "      <th>ID</th>\n",
       "      <th>详细</th>\n",
       "      <th>名字</th>\n",
       "      <th>价格</th>\n",
       "      <th>标签</th>\n",
       "      <th>描述</th>\n",
       "      <th>近期评价</th>\n",
       "      <th>发行日期</th>\n",
       "      <th>近期数量好评率</th>\n",
       "      <th>开发商</th>\n",
       "      <th>年</th>\n",
       "      <th>近期评价人数</th>\n",
       "      <th>近期好评率</th>\n",
       "      <th>销售额</th>\n",
       "    </tr>\n",
       "  </thead>\n",
       "  <tbody>\n",
       "    <tr>\n",
       "      <th>200</th>\n",
       "      <td>https://store.steampowered.com/app/223750/</td>\n",
       "      <td>223750</td>\n",
       "      <td>('DCS World Steam Edition', '¥16,822', 'Simula...</td>\n",
       "      <td>DCS World Steam Edition</td>\n",
       "      <td>16822</td>\n",
       "      <td>Simulation\\nFlight\\nFree to Play\\nMultiplayer\\...</td>\n",
       "      <td>Feel the excitement of flying the Su-25T \"Frog...</td>\n",
       "      <td>Very Positive</td>\n",
       "      <td>2018-03-18</td>\n",
       "      <td>86% of the 322 user reviews in the last 30 day...</td>\n",
       "      <td>Eagle Dynamics SA</td>\n",
       "      <td>2018</td>\n",
       "      <td>322</td>\n",
       "      <td>86.0</td>\n",
       "      <td>5416684</td>\n",
       "    </tr>\n",
       "    <tr>\n",
       "      <th>366</th>\n",
       "      <td>https://store.steampowered.com/app/269950/</td>\n",
       "      <td>269950</td>\n",
       "      <td>('X-Plane 11', '¥8,859', 'Simulation\\nFlight\\n...</td>\n",
       "      <td>X-Plane 11</td>\n",
       "      <td>8859</td>\n",
       "      <td>Simulation\\nFlight\\nRealistic\\nOpen World\\nMul...</td>\n",
       "      <td>The future of flight simulation is now! X-Plan...</td>\n",
       "      <td>Very Positive</td>\n",
       "      <td>2017-03-30</td>\n",
       "      <td>92% of the 244 user reviews in the last 30 day...</td>\n",
       "      <td>Laminar Research</td>\n",
       "      <td>2017</td>\n",
       "      <td>244</td>\n",
       "      <td>92.0</td>\n",
       "      <td>2161596</td>\n",
       "    </tr>\n",
       "    <tr>\n",
       "      <th>418</th>\n",
       "      <td>https://store.steampowered.com/app/339600/</td>\n",
       "      <td>339600</td>\n",
       "      <td>('VEGA Conflict', '¥7,392', 'Free to Play\\nSpa...</td>\n",
       "      <td>VEGA Conflict</td>\n",
       "      <td>7392</td>\n",
       "      <td>Free to Play\\nSpace\\nStrategy\\nMassively Multi...</td>\n",
       "      <td>Stake your claim, command your fleets, and wag...</td>\n",
       "      <td>Mostly Positive</td>\n",
       "      <td>2015-12-14</td>\n",
       "      <td>70% of the 40 user reviews in the last 30 days...</td>\n",
       "      <td>KIXEYE</td>\n",
       "      <td>2015</td>\n",
       "      <td>40</td>\n",
       "      <td>70.0</td>\n",
       "      <td>295680</td>\n",
       "    </tr>\n",
       "  </tbody>\n",
       "</table>\n",
       "</div>"
      ],
      "text/plain": [
       "                                           Link      ID  \\\n",
       "200  https://store.steampowered.com/app/223750/  223750   \n",
       "366  https://store.steampowered.com/app/269950/  269950   \n",
       "418  https://store.steampowered.com/app/339600/  339600   \n",
       "\n",
       "                                                    详细  \\\n",
       "200  ('DCS World Steam Edition', '¥16,822', 'Simula...   \n",
       "366  ('X-Plane 11', '¥8,859', 'Simulation\\nFlight\\n...   \n",
       "418  ('VEGA Conflict', '¥7,392', 'Free to Play\\nSpa...   \n",
       "\n",
       "                          名字     价格  \\\n",
       "200  DCS World Steam Edition  16822   \n",
       "366               X-Plane 11   8859   \n",
       "418            VEGA Conflict   7392   \n",
       "\n",
       "                                                    标签  \\\n",
       "200  Simulation\\nFlight\\nFree to Play\\nMultiplayer\\...   \n",
       "366  Simulation\\nFlight\\nRealistic\\nOpen World\\nMul...   \n",
       "418  Free to Play\\nSpace\\nStrategy\\nMassively Multi...   \n",
       "\n",
       "                                                    描述             近期评价  \\\n",
       "200  Feel the excitement of flying the Su-25T \"Frog...    Very Positive   \n",
       "366  The future of flight simulation is now! X-Plan...    Very Positive   \n",
       "418  Stake your claim, command your fleets, and wag...  Mostly Positive   \n",
       "\n",
       "          发行日期                                            近期数量好评率  \\\n",
       "200 2018-03-18  86% of the 322 user reviews in the last 30 day...   \n",
       "366 2017-03-30  92% of the 244 user reviews in the last 30 day...   \n",
       "418 2015-12-14  70% of the 40 user reviews in the last 30 days...   \n",
       "\n",
       "                   开发商     年  近期评价人数  近期好评率      销售额  \n",
       "200  Eagle Dynamics SA  2018     322   86.0  5416684  \n",
       "366   Laminar Research  2017     244   92.0  2161596  \n",
       "418             KIXEYE  2015      40   70.0   295680  "
      ]
     },
     "execution_count": 32,
     "metadata": {},
     "output_type": "execute_result"
    }
   ],
   "source": [
    "data.loc[data['价格']>5000]"
   ]
  },
  {
   "cell_type": "code",
   "execution_count": 33,
   "metadata": {},
   "outputs": [
    {
     "name": "stdout",
     "output_type": "stream",
     "text": [
      "2\n"
     ]
    }
   ],
   "source": [
    "list1 = []\n",
    "list1 = data['标签'].to_list()\n",
    "\n",
    "list1 = '\\n'.join(list1)\n",
    "list1 =list1.split('\\n')#把所有标签加入list1\n",
    "frequency = {}\n",
    "frequency1 = {}\n",
    "for word in list1:\n",
    "    if word not in frequency:\n",
    "        frequency[word] = 1\n",
    "    else:\n",
    "        frequency[word] += 1\n",
    "frequency = sorted(frequency.items(),key = lambda x :x[1], reverse=True)#根据词频降序做排列输出一个元组\n",
    "for i in frequency:\n",
    "    frequency1[str(i[0])[0:2]+'\\n'+str(i[0])[2:4]+'\\n'+str(i[0])[4:6]+'\\n'+str(i[0])[6:8]]=i[1]#元组转为字典，再让标签每隔2个字加\\n,后面柱状图会用到\n",
    "dffre = data.copy()\n",
    "for i in  list(frequency)[0:8]:#检验10个tag覆盖率\n",
    "    dffre = dffre[dffre['标签'].str.contains(i[0])== False]\n",
    "\n",
    "print(len(dffre))"
   ]
  },
  {
   "cell_type": "code",
   "execution_count": 34,
   "metadata": {},
   "outputs": [
    {
     "data": {
      "image/png": "[encoded data removed]",
      "text/plain": [
       "<Figure size 1080x576 with 1 Axes>"
      ]
     },
     "metadata": {},
     "output_type": "display_data"
    }
   ],
   "source": [
    "Y = list(frequency1.keys())[0:8]#取前10个标签\n",
    "X = list(frequency1.values())[0:8]\n",
    "plt.figure( figsize=(15, 8),)\n",
    "\n",
    "plt.bar(Y,X)\n",
    "\n",
    "plt.xlabel('type',fontsize=30)\n",
    "plt.ylabel('number',fontsize=30)\n",
    "plt.xlim(-.8, 8)\n",
    "for a,b in zip(Y,X):\n",
    "    plt.text(a, b,int(b), ha='center', va= 'bottom',fontsize=18)\n",
    "plt.show()"
   ]
  },
  {
   "cell_type": "markdown",
   "metadata": {},
   "source": [
    "### 2.3 好评率与销售额相关分析"
   ]
  },
  {
   "cell_type": "code",
   "execution_count": 12,
   "metadata": {},
   "outputs": [
    {
     "name": "stdout",
     "output_type": "stream",
     "text": [
      "R squared: 0.000648557\n"
     ]
    }
   ],
   "source": [
    "#好评与销售额是否相关？ 叫好是否就卖座？\n",
    "from sklearn import datasets, linear_model\n",
    "from sklearn.metrics import mean_squared_error, r2_score\n",
    "from regressors import stats\n",
    "#踢除免费游戏，探究付费游戏的销售额是否与好评率相关\n",
    "data3 = data[data.价格 !=0] \n",
    "rate1 = data3['近期好评率']\n",
    "rate =np.array(rate1).reshape(-1,1)\n",
    "sales1 = data3['销售额']\n",
    "sales = np.array(sales1).reshape(-1,1)\n",
    "regr = linear_model.LinearRegression()\n",
    "regr.fit(rate,sales)\n",
    "sales_pred = regr.predict(rate)\n",
    "print('R squared: %.9f' % r2_score(sales1, sales_pred))\n",
    "#好评与销售额不线性相关"
   ]
  },
  {
   "cell_type": "code",
   "execution_count": 19,
   "metadata": {},
   "outputs": [
    {
     "data": {
      "image/png": "[encoded data removed]",
      "text/plain": [
       "<Figure size 1440x720 with 1 Axes>"
      ]
     },
     "metadata": {},
     "output_type": "display_data"
    }
   ],
   "source": [
    "Y = data3['销售额'] \n",
    "X = data3['近期好评率']\n",
    "plt.style.use('ggplot')\n",
    "plt.figure(figsize=(20, 10))\n",
    "plt.scatter(X,Y,s=20,c='c')\n",
    "plt.xlabel('rate',fontsize=30)\n",
    "plt.ylabel('sales(m)',fontsize=30)\n",
    "plt.title('sales and rate',fontsize=40)\n",
    "plt.show()"
   ]
  },
  {
   "cell_type": "markdown",
   "metadata": {},
   "source": [
    "## 3 地图分析（杨蕊嘉）"
   ]
  },
  {
   "cell_type": "code",
   "execution_count": 3,
   "metadata": {},
   "outputs": [],
   "source": [
    "#pyecharts库中负责地理坐标系的模块是Geo，负责地图的模块是Map，负责百度地图的模块是BMap，负责图表配置的模块是options。在 pyecharts 中，图表的一切皆通过 options来修饰调整。\n",
    "#导入包\n",
    "# from example.commons import Faker\n",
    "import pandas as pd\n",
    "from pyecharts import options as opts \n",
    "from pyecharts.charts import Geo \n",
    "from pyecharts.globals import ChartType, SymbolType\n",
    "from pyecharts.charts import Map"
   ]
  },
  {
   "cell_type": "code",
   "execution_count": 6,
   "metadata": {},
   "outputs": [
    {
     "data": {
      "text/html": [
       "\n",
       "<script>\n",
       "    require.config({\n",
       "        paths: {\n",
       "            'echarts':'https://assets.pyecharts.org/assets/echarts.min', 'world':'https://assets.pyecharts.org/assets/maps/world'\n",
       "        }\n",
       "    });\n",
       "</script>\n",
       "\n",
       "        <div id=\"8f84897da7e642caa52d7999cf4e6ed8\" style=\"width:900px; height:500px;\"></div>\n",
       "\n",
       "<script>\n",
       "        require(['echarts', 'world'], function(echarts) {\n",
       "                var chart_8f84897da7e642caa52d7999cf4e6ed8 = echarts.init(\n",
       "                    document.getElementById('8f84897da7e642caa52d7999cf4e6ed8'), 'white', {renderer: 'canvas'});\n",
       "                var option_8f84897da7e642caa52d7999cf4e6ed8 = {\n",
       "    \"animation\": true,\n",
       "    \"animationThreshold\": 2000,\n",
       "    \"animationDuration\": 1000,\n",
       "    \"animationEasing\": \"cubicOut\",\n",
       "    \"animationDelay\": 0,\n",
       "    \"animationDurationUpdate\": 300,\n",
       "    \"animationEasingUpdate\": \"cubicOut\",\n",
       "    \"animationDelayUpdate\": 0,\n",
       "    \"color\": [\n",
       "        \"#c23531\",\n",
       "        \"#2f4554\",\n",
       "        \"#61a0a8\",\n",
       "        \"#d48265\",\n",
       "        \"#749f83\",\n",
       "        \"#ca8622\",\n",
       "        \"#bda29a\",\n",
       "        \"#6e7074\",\n",
       "        \"#546570\",\n",
       "        \"#c4ccd3\",\n",
       "        \"#f05b72\",\n",
       "        \"#ef5b9c\",\n",
       "        \"#f47920\",\n",
       "        \"#905a3d\",\n",
       "        \"#fab27b\",\n",
       "        \"#2a5caa\",\n",
       "        \"#444693\",\n",
       "        \"#726930\",\n",
       "        \"#b2d235\",\n",
       "        \"#6d8346\",\n",
       "        \"#ac6767\",\n",
       "        \"#1d953f\",\n",
       "        \"#6950a1\",\n",
       "        \"#918597\"\n",
       "    ],\n",
       "    \"series\": [\n",
       "        {\n",
       "            \"type\": \"map\",\n",
       "            \"name\": \"\\u6e38\\u620f\\u516c\\u53f8\\u9500\\u91cfTop20\",\n",
       "            \"label\": {\n",
       "                \"show\": false,\n",
       "                \"position\": \"top\",\n",
       "                \"margin\": 8\n",
       "            },\n",
       "            \"mapType\": \"world\",\n",
       "            \"data\": [\n",
       "                {\n",
       "                    \"name\": \"Germany\",\n",
       "                    \"value\": 23661840\n",
       "                },\n",
       "                {\n",
       "                    \"name\": \"Japan\",\n",
       "                    \"value\": 21262444\n",
       "                },\n",
       "                {\n",
       "                    \"name\": \"United States\",\n",
       "                    \"value\": 19568392\n",
       "                },\n",
       "                {\n",
       "                    \"name\": \"United States\",\n",
       "                    \"value\": 13764560\n",
       "                },\n",
       "                {\n",
       "                    \"name\": \"Canada\",\n",
       "                    \"value\": 12447864\n",
       "                },\n",
       "                {\n",
       "                    \"name\": \"Canada\",\n",
       "                    \"value\": 10244094\n",
       "                },\n",
       "                {\n",
       "                    \"name\": \"United States\",\n",
       "                    \"value\": 9778910\n",
       "                },\n",
       "                {\n",
       "                    \"name\": \"Czech Republic\",\n",
       "                    \"value\": 7759228\n",
       "                },\n",
       "                {\n",
       "                    \"name\": \"United Kingdom\",\n",
       "                    \"value\": 6103768\n",
       "                },\n",
       "                {\n",
       "                    \"name\": \"United States\",\n",
       "                    \"value\": 5467594\n",
       "                },\n",
       "                {\n",
       "                    \"name\": \"Russia\",\n",
       "                    \"value\": 5416684\n",
       "                },\n",
       "                {\n",
       "                    \"name\": \"United States\",\n",
       "                    \"value\": 4813505\n",
       "                },\n",
       "                {\n",
       "                    \"name\": \"United States\",\n",
       "                    \"value\": 4187904\n",
       "                },\n",
       "                {\n",
       "                    \"name\": \"United States\",\n",
       "                    \"value\": 3090330\n",
       "                },\n",
       "                {\n",
       "                    \"name\": \"Poland\",\n",
       "                    \"value\": 2462955\n",
       "                },\n",
       "                {\n",
       "                    \"name\": \"United States\",\n",
       "                    \"value\": 2371296\n",
       "                },\n",
       "                {\n",
       "                    \"name\": \"Canada\",\n",
       "                    \"value\": 2213918\n",
       "                },\n",
       "                {\n",
       "                    \"name\": \"United States\",\n",
       "                    \"value\": 2211528\n",
       "                },\n",
       "                {\n",
       "                    \"name\": \"Colombia\",\n",
       "                    \"value\": 2161596\n",
       "                },\n",
       "                {\n",
       "                    \"name\": \"United States\",\n",
       "                    \"value\": 1863264\n",
       "                }\n",
       "            ],\n",
       "            \"roam\": true,\n",
       "            \"aspectScale\": 0.75,\n",
       "            \"nameProperty\": \"name\",\n",
       "            \"selectedMode\": false,\n",
       "            \"zoom\": 1,\n",
       "            \"mapValueCalculation\": \"sum\",\n",
       "            \"showLegendSymbol\": true,\n",
       "            \"emphasis\": {},\n",
       "            \"rippleEffect\": {\n",
       "                \"show\": true,\n",
       "                \"brushType\": \"stroke\",\n",
       "                \"scale\": 2.5,\n",
       "                \"period\": 4\n",
       "            }\n",
       "        }\n",
       "    ],\n",
       "    \"legend\": [\n",
       "        {\n",
       "            \"data\": [\n",
       "                \"\\u6e38\\u620f\\u516c\\u53f8\\u9500\\u91cfTop20\"\n",
       "            ],\n",
       "            \"selected\": {\n",
       "                \"\\u6e38\\u620f\\u516c\\u53f8\\u9500\\u91cfTop20\": true\n",
       "            },\n",
       "            \"show\": true,\n",
       "            \"padding\": 5,\n",
       "            \"itemGap\": 10,\n",
       "            \"itemWidth\": 25,\n",
       "            \"itemHeight\": 14\n",
       "        }\n",
       "    ],\n",
       "    \"tooltip\": {\n",
       "        \"show\": true,\n",
       "        \"trigger\": \"item\",\n",
       "        \"triggerOn\": \"mousemove|click\",\n",
       "        \"axisPointer\": {\n",
       "            \"type\": \"line\"\n",
       "        },\n",
       "        \"showContent\": true,\n",
       "        \"alwaysShowContent\": false,\n",
       "        \"showDelay\": 0,\n",
       "        \"hideDelay\": 100,\n",
       "        \"textStyle\": {\n",
       "            \"fontSize\": 14\n",
       "        },\n",
       "        \"borderWidth\": 0,\n",
       "        \"padding\": 5\n",
       "    },\n",
       "    \"title\": [\n",
       "        {\n",
       "            \"text\": \"Map-\\u4e16\\u754c\\u5730\\u56fe\",\n",
       "            \"padding\": 5,\n",
       "            \"itemGap\": 10\n",
       "        }\n",
       "    ],\n",
       "    \"visualMap\": {\n",
       "        \"show\": true,\n",
       "        \"type\": \"continuous\",\n",
       "        \"min\": 2100000,\n",
       "        \"max\": 67000000,\n",
       "        \"inRange\": {\n",
       "            \"color\": [\n",
       "                \"#50a3ba\",\n",
       "                \"#eac763\",\n",
       "                \"#d94e5d\"\n",
       "            ]\n",
       "        },\n",
       "        \"calculable\": true,\n",
       "        \"inverse\": false,\n",
       "        \"splitNumber\": 5,\n",
       "        \"orient\": \"vertical\",\n",
       "        \"showLabel\": true,\n",
       "        \"itemWidth\": 20,\n",
       "        \"itemHeight\": 140,\n",
       "        \"borderWidth\": 0\n",
       "    }\n",
       "};\n",
       "                chart_8f84897da7e642caa52d7999cf4e6ed8.setOption(option_8f84897da7e642caa52d7999cf4e6ed8);\n",
       "        });\n",
       "    </script>\n"
      ],
      "text/plain": [
       "<pyecharts.render.display.HTML at 0x2609e4cbd60>"
      ]
     },
     "execution_count": 6,
     "metadata": {},
     "output_type": "execute_result"
    }
   ],
   "source": [
    "country = pd.read_excel('country.xlsx')\n",
    "#map,国名必须为英文\n",
    "c = (\n",
    "        Map()\n",
    "        .add(\"游戏公司销量Top20\", [list(z) for z in zip(country.loc[:,'country'],country.loc[:,'sales'])],\"world\")\n",
    "        .set_series_opts(label_opts=opts.LabelOpts(is_show=False))\n",
    "        .set_global_opts(\n",
    "            title_opts=opts.TitleOpts(title=\"Map-世界地图\"),\n",
    "            visualmap_opts=opts.VisualMapOpts(max_=67000000,min_=2100000),\n",
    "        )\n",
    "    )\n",
    "c.render_notebook()"
   ]
  },
  {
   "cell_type": "markdown",
   "metadata": {},
   "source": [
    "## 4 文本分析(李金隆、杨蕊嘉）"
   ]
  },
  {
   "cell_type": "code",
   "execution_count": 21,
   "metadata": {},
   "outputs": [
    {
     "name": "stdout",
     "output_type": "stream",
     "text": [
      "Populating the interactive namespace from numpy and matplotlib\n"
     ]
    }
   ],
   "source": [
    "import numpy as np\n",
    "from wordcloud import WordCloud,STOPWORDS\n",
    "import jieba\n",
    "from PIL import Image\n",
    "import matplotlib.pyplot as plt\n",
    "import matplotlib\n",
    "import pandas as pd\n",
    "import plotly\n",
    "import plotly.express as px\n",
    "%pylab inline"
   ]
  },
  {
   "cell_type": "markdown",
   "metadata": {},
   "source": [
    "###  4.1 Wordcloud"
   ]
  },
  {
   "cell_type": "code",
   "execution_count": 36,
   "metadata": {},
   "outputs": [],
   "source": [
    "#设置屏蔽词（动词、程度词）\n",
    "stopwords = set(STOPWORDS)\n",
    "#stopwords.add('公司')stopwords.add('的')\n",
    "# stopwords.add('公司')\n",
    "stopwords = [line.strip() for line in open('停用词表.txt', encoding='UTF-8').readlines()]\n",
    "\n",
    "\n",
    "#定义函数\n",
    "def creat_wordcloud(picture ,name):\n",
    "    image = Image.open(picture)#词云形状设置\n",
    "    mask = np.array(image)\n",
    "    # mask = np.array(Image.open(\"steam2.jpg\"))\n",
    "    filename = name\n",
    "    with open(filename, 'rb') as f: #encoding = 'utf-8',改变为rb可以去读gkd编码\n",
    "        mytext = f.read()\n",
    "    mytext = ' '.join(jieba.cut(mytext))\n",
    "    font =\"STXINGKA.TTF\"#字体设置\n",
    "    word_cloud_4 = WordCloud(scale=4, #设置图片清晰度\n",
    "                            background_color= 'white',#背景颜色\n",
    "                             font_path=font, #字体设置\n",
    "                             max_font_size=500,#词的数量\n",
    "                             stopwords = stopwords,#屏蔽词\n",
    "                             mask=mask).generate(mytext)\n",
    "    plt.imshow(word_cloud_4, interpolation= 'bilinear')\n",
    "    plt.axis('off') \n",
    "    plt.show()\n",
    "    return word_cloud_4\n",
    "#     word_cloud_4.to_file(\"output.png\")#导出png格式的图片"
   ]
  },
  {
   "cell_type": "code",
   "execution_count": 41,
   "metadata": {},
   "outputs": [
    {
     "data": {
      "image/png": "[encoded data removed]",
      "text/plain": [
       "<Figure size 432x288 with 1 Axes>"
      ]
     },
     "metadata": {
      "needs_background": "light"
     },
     "output_type": "display_data"
    },
    {
     "data": {
      "text/plain": [
       "<wordcloud.wordcloud.WordCloud at 0x1d181c91220>"
      ]
     },
     "execution_count": 41,
     "metadata": {},
     "output_type": "execute_result"
    }
   ],
   "source": [
    "pds = pd.read_excel('pt_cm.xls')\n",
    "pds.to_csv('positive.txt',header=None, sep = ' ', index = False)\n",
    "word_cloud = creat_wordcloud('good.png', 'positive.txt')\n",
    "# word_cloud.to_file('cm_po.png')"
   ]
  },
  {
   "cell_type": "code",
   "execution_count": 44,
   "metadata": {},
   "outputs": [
    {
     "data": {
      "image/png": "[encoded data removed]",
      "text/plain": [
       "<Figure size 432x288 with 1 Axes>"
      ]
     },
     "metadata": {
      "needs_background": "light"
     },
     "output_type": "display_data"
    },
    {
     "data": {
      "text/plain": [
       "<wordcloud.wordcloud.WordCloud at 0x1d1834cb760>"
      ]
     },
     "execution_count": 44,
     "metadata": {},
     "output_type": "execute_result"
    }
   ],
   "source": [
    "pds = pd.read_excel('ng_cm.xls')\n",
    "pds.to_csv('neg.txt',header=None, sep = ' ', index = False)\n",
    "word_cloud = creat_wordcloud('bad.png', 'neg.txt')\n",
    "# word_cloud.to_file('cm_ng.png')"
   ]
  },
  {
   "cell_type": "markdown",
   "metadata": {},
   "source": [
    "### 4.2 counts"
   ]
  },
  {
   "cell_type": "code",
   "execution_count": 28,
   "metadata": {},
   "outputs": [],
   "source": [
    "def count_number(df_a):\n",
    "    b = df_a.values.tolist()\n",
    "    sss = ''.join([str(x) for x in b])\n",
    "    words  = jieba.lcut(sss)  \n",
    "    counts = {}  \n",
    "    for word in words:  \n",
    "        if word not in stopwords:\n",
    "            if len(word) == 1:\n",
    "                continue\n",
    "            else:\n",
    "                counts[word] = counts.get(word,0) + 1  \n",
    "    items = list(counts.items())  \n",
    "    items.sort(key=lambda x:x[1], reverse=True)  \n",
    "    temp = pd.DataFrame(items[0:10],columns = ['name','number'])\n",
    "    return temp"
   ]
  },
  {
   "cell_type": "code",
   "execution_count": 29,
   "metadata": {},
   "outputs": [
    {
     "data": {
      "text/html": [
       "<div>\n",
       "<style scoped>\n",
       "    .dataframe tbody tr th:only-of-type {\n",
       "        vertical-align: middle;\n",
       "    }\n",
       "\n",
       "    .dataframe tbody tr th {\n",
       "        vertical-align: top;\n",
       "    }\n",
       "\n",
       "    .dataframe thead th {\n",
       "        text-align: right;\n",
       "    }\n",
       "</style>\n",
       "<table border=\"1\" class=\"dataframe\">\n",
       "  <thead>\n",
       "    <tr style=\"text-align: right;\">\n",
       "      <th></th>\n",
       "      <th>tag</th>\n",
       "      <th>SUM</th>\n",
       "      <th>0</th>\n",
       "      <th>1</th>\n",
       "      <th>2</th>\n",
       "      <th>3</th>\n",
       "      <th>4</th>\n",
       "      <th>5</th>\n",
       "      <th>6</th>\n",
       "      <th>7</th>\n",
       "      <th>...</th>\n",
       "      <th>445</th>\n",
       "      <th>446</th>\n",
       "      <th>447</th>\n",
       "      <th>448</th>\n",
       "      <th>449</th>\n",
       "      <th>450</th>\n",
       "      <th>451</th>\n",
       "      <th>452</th>\n",
       "      <th>453</th>\n",
       "      <th>454</th>\n",
       "    </tr>\n",
       "  </thead>\n",
       "  <tbody>\n",
       "    <tr>\n",
       "      <th>0</th>\n",
       "      <td>Multiplayer</td>\n",
       "      <td>939192.18</td>\n",
       "      <td>真是个对新手十分友好的游戏，大家都很亲切，大家还都认识你妈妈，如果你打得好，他们还会对你的妈...</td>\n",
       "      <td>我,是,傻,逼\\n作为一个上班族，真想好好耐心下来玩命运2，但是真的没有固定的时间能找人一起...</td>\n",
       "      <td>操你妈，外挂多的要死，第一把就见到一个人在天上乱杀，反华废青还很多，几乎每把都有傻逼和死了妈...</td>\n",
       "      <td>游戏挺简单的，特别容易上手。游戏里面的朋友也非常友好，经常互相问候家人。特别推荐！\\n11年...</td>\n",
       "      <td>很好玩，但这个鬼老是搞偷袭，来偷袭我9岁的小同志，我劝这个鬼耗子尾汁，好好反思,\\n今天就算...</td>\n",
       "      <td>We,need,ChineseWe,need,ChineseWe,need,ChineseW...</td>\n",
       "      <td>昨天有个朋友问我怎么了，发生肾膜事了，我一看，啊，原来是FM21出BETA了，我啪一下就点了...</td>\n",
       "      <td>为什么要卖116，因为差你就是117了\\n,,　欢迎关注,网易UU鉴赏家培养计划,,,　来这...</td>\n",
       "      <td>...</td>\n",
       "      <td>NaN</td>\n",
       "      <td>NaN</td>\n",
       "      <td>NaN</td>\n",
       "      <td>NaN</td>\n",
       "      <td>NaN</td>\n",
       "      <td>NaN</td>\n",
       "      <td>NaN</td>\n",
       "      <td>NaN</td>\n",
       "      <td>NaN</td>\n",
       "      <td>NaN</td>\n",
       "    </tr>\n",
       "    <tr>\n",
       "      <th>1</th>\n",
       "      <td>Co-op</td>\n",
       "      <td>816312.18</td>\n",
       "      <td>真是个对新手十分友好的游戏，大家都很亲切，大家还都认识你妈妈，如果你打得好，他们还会对你的妈...</td>\n",
       "      <td>我,是,傻,逼\\n作为一个上班族，真想好好耐心下来玩命运2，但是真的没有固定的时间能找人一起...</td>\n",
       "      <td>操你妈，外挂多的要死，第一把就见到一个人在天上乱杀，反华废青还很多，几乎每把都有傻逼和死了妈...</td>\n",
       "      <td>游戏挺简单的，特别容易上手。游戏里面的朋友也非常友好，经常互相问候家人。特别推荐！\\n11年...</td>\n",
       "      <td>很好玩，但这个鬼老是搞偷袭，来偷袭我9岁的小同志，我劝这个鬼耗子尾汁，好好反思,\\n今天就算...</td>\n",
       "      <td>We,need,ChineseWe,need,ChineseWe,need,ChineseW...</td>\n",
       "      <td>为什么要卖116，因为差你就是117了\\n,,　欢迎关注,网易UU鉴赏家培养计划,,,　来这...</td>\n",
       "      <td>希望快点把仁王2移植PC吧\\n我是傻逼\\n挺好玩的,很爽,很酷炫,当然,怪也这么觉得.\\n铁...</td>\n",
       "      <td>...</td>\n",
       "      <td>NaN</td>\n",
       "      <td>NaN</td>\n",
       "      <td>NaN</td>\n",
       "      <td>NaN</td>\n",
       "      <td>NaN</td>\n",
       "      <td>NaN</td>\n",
       "      <td>NaN</td>\n",
       "      <td>NaN</td>\n",
       "      <td>NaN</td>\n",
       "      <td>NaN</td>\n",
       "    </tr>\n",
       "    <tr>\n",
       "      <th>2</th>\n",
       "      <td>Action</td>\n",
       "      <td>780912.95</td>\n",
       "      <td>真是个对新手十分友好的游戏，大家都很亲切，大家还都认识你妈妈，如果你打得好，他们还会对你的妈...</td>\n",
       "      <td>我,是,傻,逼\\n作为一个上班族，真想好好耐心下来玩命运2，但是真的没有固定的时间能找人一起...</td>\n",
       "      <td>操你妈，外挂多的要死，第一把就见到一个人在天上乱杀，反华废青还很多，几乎每把都有傻逼和死了妈...</td>\n",
       "      <td>游戏挺简单的，特别容易上手。游戏里面的朋友也非常友好，经常互相问候家人。特别推荐！\\n11年...</td>\n",
       "      <td>很好玩，但这个鬼老是搞偷袭，来偷袭我9岁的小同志，我劝这个鬼耗子尾汁，好好反思,\\n今天就算...</td>\n",
       "      <td>NaN</td>\n",
       "      <td>第一350千万别买，要么转区，要么入主机版，傻逼公司把国区当猪宰，除此之外是好的，打击感连招...</td>\n",
       "      <td>为什么要卖116，因为差你就是117了\\n,,　欢迎关注,网易UU鉴赏家培养计划,,,　来这...</td>\n",
       "      <td>...</td>\n",
       "      <td>NaN</td>\n",
       "      <td>NaN</td>\n",
       "      <td>NaN</td>\n",
       "      <td>NaN</td>\n",
       "      <td>NaN</td>\n",
       "      <td>NaN</td>\n",
       "      <td>NaN</td>\n",
       "      <td>NaN</td>\n",
       "      <td>NaN</td>\n",
       "      <td>NaN</td>\n",
       "    </tr>\n",
       "    <tr>\n",
       "      <th>3</th>\n",
       "      <td>Online Co-Op</td>\n",
       "      <td>741399.91</td>\n",
       "      <td>真是个对新手十分友好的游戏，大家都很亲切，大家还都认识你妈妈，如果你打得好，他们还会对你的妈...</td>\n",
       "      <td>我,是,傻,逼\\n作为一个上班族，真想好好耐心下来玩命运2，但是真的没有固定的时间能找人一起...</td>\n",
       "      <td>操你妈，外挂多的要死，第一把就见到一个人在天上乱杀，反华废青还很多，几乎每把都有傻逼和死了妈...</td>\n",
       "      <td>游戏挺简单的，特别容易上手。游戏里面的朋友也非常友好，经常互相问候家人。特别推荐！\\n11年...</td>\n",
       "      <td>很好玩，但这个鬼老是搞偷袭，来偷袭我9岁的小同志，我劝这个鬼耗子尾汁，好好反思,\\n今天就算...</td>\n",
       "      <td>We,need,ChineseWe,need,ChineseWe,need,ChineseW...</td>\n",
       "      <td>为什么要卖116，因为差你就是117了\\n,,　欢迎关注,网易UU鉴赏家培养计划,,,　来这...</td>\n",
       "      <td>0</td>\n",
       "      <td>...</td>\n",
       "      <td>NaN</td>\n",
       "      <td>NaN</td>\n",
       "      <td>NaN</td>\n",
       "      <td>NaN</td>\n",
       "      <td>NaN</td>\n",
       "      <td>NaN</td>\n",
       "      <td>NaN</td>\n",
       "      <td>NaN</td>\n",
       "      <td>NaN</td>\n",
       "      <td>NaN</td>\n",
       "    </tr>\n",
       "    <tr>\n",
       "      <th>4</th>\n",
       "      <td>First-Person</td>\n",
       "      <td>567302.92</td>\n",
       "      <td>真是个对新手十分友好的游戏，大家都很亲切，大家还都认识你妈妈，如果你打得好，他们还会对你的妈...</td>\n",
       "      <td>我,是,傻,逼\\n作为一个上班族，真想好好耐心下来玩命运2，但是真的没有固定的时间能找人一起...</td>\n",
       "      <td>操你妈，外挂多的要死，第一把就见到一个人在天上乱杀，反华废青还很多，几乎每把都有傻逼和死了妈...</td>\n",
       "      <td>很好玩，但这个鬼老是搞偷袭，来偷袭我9岁的小同志，我劝这个鬼耗子尾汁，好好反思,\\n今天就算...</td>\n",
       "      <td>NaN</td>\n",
       "      <td>为什么要卖116，因为差你就是117了\\n,,　欢迎关注,网易UU鉴赏家培养计划,,,　来这...</td>\n",
       "      <td>0</td>\n",
       "      <td>这个游戏现在有一个很大的问题，那就是车队问题。在白天屠夫排不到，晚上人类排不到。于是乎晚上我...</td>\n",
       "      <td>...</td>\n",
       "      <td>NaN</td>\n",
       "      <td>NaN</td>\n",
       "      <td>NaN</td>\n",
       "      <td>NaN</td>\n",
       "      <td>NaN</td>\n",
       "      <td>NaN</td>\n",
       "      <td>NaN</td>\n",
       "      <td>NaN</td>\n",
       "      <td>NaN</td>\n",
       "      <td>NaN</td>\n",
       "    </tr>\n",
       "    <tr>\n",
       "      <th>...</th>\n",
       "      <td>...</td>\n",
       "      <td>...</td>\n",
       "      <td>...</td>\n",
       "      <td>...</td>\n",
       "      <td>...</td>\n",
       "      <td>...</td>\n",
       "      <td>...</td>\n",
       "      <td>...</td>\n",
       "      <td>...</td>\n",
       "      <td>...</td>\n",
       "      <td>...</td>\n",
       "      <td>...</td>\n",
       "      <td>...</td>\n",
       "      <td>...</td>\n",
       "      <td>...</td>\n",
       "      <td>...</td>\n",
       "      <td>...</td>\n",
       "      <td>...</td>\n",
       "      <td>...</td>\n",
       "      <td>...</td>\n",
       "      <td>...</td>\n",
       "    </tr>\n",
       "    <tr>\n",
       "      <th>366</th>\n",
       "      <td>Utilities</td>\n",
       "      <td>39.00</td>\n",
       "      <td>NaN</td>\n",
       "      <td>除了没有中文什么都好。在没有填入key的状况下安装游戏是免费版的，请不要在免费版转正式版的更...</td>\n",
       "      <td>NaN</td>\n",
       "      <td>NaN</td>\n",
       "      <td>NaN</td>\n",
       "      <td>NaN</td>\n",
       "      <td>NaN</td>\n",
       "      <td>NaN</td>\n",
       "      <td>...</td>\n",
       "      <td>NaN</td>\n",
       "      <td>NaN</td>\n",
       "      <td>NaN</td>\n",
       "      <td>NaN</td>\n",
       "      <td>NaN</td>\n",
       "      <td>NaN</td>\n",
       "      <td>NaN</td>\n",
       "      <td>NaN</td>\n",
       "      <td>NaN</td>\n",
       "      <td>NaN</td>\n",
       "    </tr>\n",
       "    <tr>\n",
       "      <th>367</th>\n",
       "      <td>Farming</td>\n",
       "      <td>28.00</td>\n",
       "      <td>第一350千万别买，要么转区，要么入主机版，傻逼公司把国区当猪宰，除此之外是好的，打击感连招...</td>\n",
       "      <td>最大的缺陷就是土壤还是采用贴图模式,如果把土壤的物理效果做到真实一点,车辙和轮胎摩擦力随土壤...</td>\n",
       "      <td>第一350千万别买，要么转区，要么入主机版，傻逼公司把国区当猪宰，除此之外是好的，打击感连招...</td>\n",
       "      <td>最大的缺陷就是土壤还是采用贴图模式,如果把土壤的物理效果做到真实一点,车辙和轮胎摩擦力随土壤...</td>\n",
       "      <td>需要创意工坊\\n2017年刚出的时候买的，当时跟前任一起玩。两个人每天晚上挖矿，养动物、种地...</td>\n",
       "      <td>玩之前我以为，要靠完成心愿送各个角色成佛后来我发现，我能做到的，只有给他们一个尽量圆满的送别...</td>\n",
       "      <td>游戏好不好玩看个人胃口，这儿只提一下黑屏的问题：一点个人经验：1.先开steam，再点开始游...</td>\n",
       "      <td>《Green,Project》是一款以探险为主的末日生存游戏，在这个荒凉并且被具有破坏性真菌...</td>\n",
       "      <td>...</td>\n",
       "      <td>NaN</td>\n",
       "      <td>NaN</td>\n",
       "      <td>NaN</td>\n",
       "      <td>NaN</td>\n",
       "      <td>NaN</td>\n",
       "      <td>NaN</td>\n",
       "      <td>NaN</td>\n",
       "      <td>NaN</td>\n",
       "      <td>NaN</td>\n",
       "      <td>NaN</td>\n",
       "    </tr>\n",
       "    <tr>\n",
       "      <th>368</th>\n",
       "      <td>Auto Battler</td>\n",
       "      <td>27.84</td>\n",
       "      <td>5小时终于通关了一次，游戏难度偏大。目前来说感觉召唤流配合加召唤物伤害的巫师是比较好用的流派...</td>\n",
       "      <td>NaN</td>\n",
       "      <td>NaN</td>\n",
       "      <td>NaN</td>\n",
       "      <td>NaN</td>\n",
       "      <td>NaN</td>\n",
       "      <td>NaN</td>\n",
       "      <td>NaN</td>\n",
       "      <td>...</td>\n",
       "      <td>NaN</td>\n",
       "      <td>NaN</td>\n",
       "      <td>NaN</td>\n",
       "      <td>NaN</td>\n",
       "      <td>NaN</td>\n",
       "      <td>NaN</td>\n",
       "      <td>NaN</td>\n",
       "      <td>NaN</td>\n",
       "      <td>NaN</td>\n",
       "      <td>NaN</td>\n",
       "    </tr>\n",
       "    <tr>\n",
       "      <th>369</th>\n",
       "      <td>Wrestling</td>\n",
       "      <td>20.46</td>\n",
       "      <td>我是傻逼,\\n厉害了,,,,原来8D会影分身。和他打到一半另外一个8D冲出来兑包,,,强行变...</td>\n",
       "      <td>NaN</td>\n",
       "      <td>NaN</td>\n",
       "      <td>NaN</td>\n",
       "      <td>NaN</td>\n",
       "      <td>NaN</td>\n",
       "      <td>NaN</td>\n",
       "      <td>NaN</td>\n",
       "      <td>...</td>\n",
       "      <td>NaN</td>\n",
       "      <td>NaN</td>\n",
       "      <td>NaN</td>\n",
       "      <td>NaN</td>\n",
       "      <td>NaN</td>\n",
       "      <td>NaN</td>\n",
       "      <td>NaN</td>\n",
       "      <td>NaN</td>\n",
       "      <td>NaN</td>\n",
       "      <td>NaN</td>\n",
       "    </tr>\n",
       "    <tr>\n",
       "      <th>370</th>\n",
       "      <td>Cold War</td>\n",
       "      <td>12.92</td>\n",
       "      <td>画面：多费些口舌！画面真的是目前我玩儿过VR游戏中最牛的！贴图精细，室外场景逼真宏大。室内光...</td>\n",
       "      <td>系列，收藏了\\n都发售那么久了,为什么就只有苏美两个阵营呢？中国，越南，东西德，英联邦。多出...</td>\n",
       "      <td>这b游戏最终养出来一些比红管还nt的老油条玩个游戏输赢第一，请问再打竞技？喜欢捞薯条不说，有...</td>\n",
       "      <td>NaN</td>\n",
       "      <td>NaN</td>\n",
       "      <td>NaN</td>\n",
       "      <td>NaN</td>\n",
       "      <td>NaN</td>\n",
       "      <td>...</td>\n",
       "      <td>NaN</td>\n",
       "      <td>NaN</td>\n",
       "      <td>NaN</td>\n",
       "      <td>NaN</td>\n",
       "      <td>NaN</td>\n",
       "      <td>NaN</td>\n",
       "      <td>NaN</td>\n",
       "      <td>NaN</td>\n",
       "      <td>NaN</td>\n",
       "      <td>NaN</td>\n",
       "    </tr>\n",
       "  </tbody>\n",
       "</table>\n",
       "<p>371 rows × 457 columns</p>\n",
       "</div>"
      ],
      "text/plain": [
       "              tag        SUM  \\\n",
       "0     Multiplayer  939192.18   \n",
       "1           Co-op  816312.18   \n",
       "2          Action  780912.95   \n",
       "3    Online Co-Op  741399.91   \n",
       "4    First-Person  567302.92   \n",
       "..            ...        ...   \n",
       "366     Utilities      39.00   \n",
       "367       Farming      28.00   \n",
       "368  Auto Battler      27.84   \n",
       "369     Wrestling      20.46   \n",
       "370      Cold War      12.92   \n",
       "\n",
       "                                                     0  \\\n",
       "0    真是个对新手十分友好的游戏，大家都很亲切，大家还都认识你妈妈，如果你打得好，他们还会对你的妈...   \n",
       "1    真是个对新手十分友好的游戏，大家都很亲切，大家还都认识你妈妈，如果你打得好，他们还会对你的妈...   \n",
       "2    真是个对新手十分友好的游戏，大家都很亲切，大家还都认识你妈妈，如果你打得好，他们还会对你的妈...   \n",
       "3    真是个对新手十分友好的游戏，大家都很亲切，大家还都认识你妈妈，如果你打得好，他们还会对你的妈...   \n",
       "4    真是个对新手十分友好的游戏，大家都很亲切，大家还都认识你妈妈，如果你打得好，他们还会对你的妈...   \n",
       "..                                                 ...   \n",
       "366                                                NaN   \n",
       "367  第一350千万别买，要么转区，要么入主机版，傻逼公司把国区当猪宰，除此之外是好的，打击感连招...   \n",
       "368  5小时终于通关了一次，游戏难度偏大。目前来说感觉召唤流配合加召唤物伤害的巫师是比较好用的流派...   \n",
       "369  我是傻逼,\\n厉害了,,,,原来8D会影分身。和他打到一半另外一个8D冲出来兑包,,,强行变...   \n",
       "370  画面：多费些口舌！画面真的是目前我玩儿过VR游戏中最牛的！贴图精细，室外场景逼真宏大。室内光...   \n",
       "\n",
       "                                                     1  \\\n",
       "0    我,是,傻,逼\\n作为一个上班族，真想好好耐心下来玩命运2，但是真的没有固定的时间能找人一起...   \n",
       "1    我,是,傻,逼\\n作为一个上班族，真想好好耐心下来玩命运2，但是真的没有固定的时间能找人一起...   \n",
       "2    我,是,傻,逼\\n作为一个上班族，真想好好耐心下来玩命运2，但是真的没有固定的时间能找人一起...   \n",
       "3    我,是,傻,逼\\n作为一个上班族，真想好好耐心下来玩命运2，但是真的没有固定的时间能找人一起...   \n",
       "4    我,是,傻,逼\\n作为一个上班族，真想好好耐心下来玩命运2，但是真的没有固定的时间能找人一起...   \n",
       "..                                                 ...   \n",
       "366  除了没有中文什么都好。在没有填入key的状况下安装游戏是免费版的，请不要在免费版转正式版的更...   \n",
       "367  最大的缺陷就是土壤还是采用贴图模式,如果把土壤的物理效果做到真实一点,车辙和轮胎摩擦力随土壤...   \n",
       "368                                                NaN   \n",
       "369                                                NaN   \n",
       "370  系列，收藏了\\n都发售那么久了,为什么就只有苏美两个阵营呢？中国，越南，东西德，英联邦。多出...   \n",
       "\n",
       "                                                     2  \\\n",
       "0    操你妈，外挂多的要死，第一把就见到一个人在天上乱杀，反华废青还很多，几乎每把都有傻逼和死了妈...   \n",
       "1    操你妈，外挂多的要死，第一把就见到一个人在天上乱杀，反华废青还很多，几乎每把都有傻逼和死了妈...   \n",
       "2    操你妈，外挂多的要死，第一把就见到一个人在天上乱杀，反华废青还很多，几乎每把都有傻逼和死了妈...   \n",
       "3    操你妈，外挂多的要死，第一把就见到一个人在天上乱杀，反华废青还很多，几乎每把都有傻逼和死了妈...   \n",
       "4    操你妈，外挂多的要死，第一把就见到一个人在天上乱杀，反华废青还很多，几乎每把都有傻逼和死了妈...   \n",
       "..                                                 ...   \n",
       "366                                                NaN   \n",
       "367  第一350千万别买，要么转区，要么入主机版，傻逼公司把国区当猪宰，除此之外是好的，打击感连招...   \n",
       "368                                                NaN   \n",
       "369                                                NaN   \n",
       "370  这b游戏最终养出来一些比红管还nt的老油条玩个游戏输赢第一，请问再打竞技？喜欢捞薯条不说，有...   \n",
       "\n",
       "                                                     3  \\\n",
       "0    游戏挺简单的，特别容易上手。游戏里面的朋友也非常友好，经常互相问候家人。特别推荐！\\n11年...   \n",
       "1    游戏挺简单的，特别容易上手。游戏里面的朋友也非常友好，经常互相问候家人。特别推荐！\\n11年...   \n",
       "2    游戏挺简单的，特别容易上手。游戏里面的朋友也非常友好，经常互相问候家人。特别推荐！\\n11年...   \n",
       "3    游戏挺简单的，特别容易上手。游戏里面的朋友也非常友好，经常互相问候家人。特别推荐！\\n11年...   \n",
       "4    很好玩，但这个鬼老是搞偷袭，来偷袭我9岁的小同志，我劝这个鬼耗子尾汁，好好反思,\\n今天就算...   \n",
       "..                                                 ...   \n",
       "366                                                NaN   \n",
       "367  最大的缺陷就是土壤还是采用贴图模式,如果把土壤的物理效果做到真实一点,车辙和轮胎摩擦力随土壤...   \n",
       "368                                                NaN   \n",
       "369                                                NaN   \n",
       "370                                                NaN   \n",
       "\n",
       "                                                     4  \\\n",
       "0    很好玩，但这个鬼老是搞偷袭，来偷袭我9岁的小同志，我劝这个鬼耗子尾汁，好好反思,\\n今天就算...   \n",
       "1    很好玩，但这个鬼老是搞偷袭，来偷袭我9岁的小同志，我劝这个鬼耗子尾汁，好好反思,\\n今天就算...   \n",
       "2    很好玩，但这个鬼老是搞偷袭，来偷袭我9岁的小同志，我劝这个鬼耗子尾汁，好好反思,\\n今天就算...   \n",
       "3    很好玩，但这个鬼老是搞偷袭，来偷袭我9岁的小同志，我劝这个鬼耗子尾汁，好好反思,\\n今天就算...   \n",
       "4                                                  NaN   \n",
       "..                                                 ...   \n",
       "366                                                NaN   \n",
       "367  需要创意工坊\\n2017年刚出的时候买的，当时跟前任一起玩。两个人每天晚上挖矿，养动物、种地...   \n",
       "368                                                NaN   \n",
       "369                                                NaN   \n",
       "370                                                NaN   \n",
       "\n",
       "                                                     5  \\\n",
       "0    We,need,ChineseWe,need,ChineseWe,need,ChineseW...   \n",
       "1    We,need,ChineseWe,need,ChineseWe,need,ChineseW...   \n",
       "2                                                  NaN   \n",
       "3    We,need,ChineseWe,need,ChineseWe,need,ChineseW...   \n",
       "4    为什么要卖116，因为差你就是117了\\n,,　欢迎关注,网易UU鉴赏家培养计划,,,　来这...   \n",
       "..                                                 ...   \n",
       "366                                                NaN   \n",
       "367  玩之前我以为，要靠完成心愿送各个角色成佛后来我发现，我能做到的，只有给他们一个尽量圆满的送别...   \n",
       "368                                                NaN   \n",
       "369                                                NaN   \n",
       "370                                                NaN   \n",
       "\n",
       "                                                     6  \\\n",
       "0    昨天有个朋友问我怎么了，发生肾膜事了，我一看，啊，原来是FM21出BETA了，我啪一下就点了...   \n",
       "1    为什么要卖116，因为差你就是117了\\n,,　欢迎关注,网易UU鉴赏家培养计划,,,　来这...   \n",
       "2    第一350千万别买，要么转区，要么入主机版，傻逼公司把国区当猪宰，除此之外是好的，打击感连招...   \n",
       "3    为什么要卖116，因为差你就是117了\\n,,　欢迎关注,网易UU鉴赏家培养计划,,,　来这...   \n",
       "4                                                    0   \n",
       "..                                                 ...   \n",
       "366                                                NaN   \n",
       "367  游戏好不好玩看个人胃口，这儿只提一下黑屏的问题：一点个人经验：1.先开steam，再点开始游...   \n",
       "368                                                NaN   \n",
       "369                                                NaN   \n",
       "370                                                NaN   \n",
       "\n",
       "                                                     7  ...  445  446  447  \\\n",
       "0    为什么要卖116，因为差你就是117了\\n,,　欢迎关注,网易UU鉴赏家培养计划,,,　来这...  ...  NaN  NaN  NaN   \n",
       "1    希望快点把仁王2移植PC吧\\n我是傻逼\\n挺好玩的,很爽,很酷炫,当然,怪也这么觉得.\\n铁...  ...  NaN  NaN  NaN   \n",
       "2    为什么要卖116，因为差你就是117了\\n,,　欢迎关注,网易UU鉴赏家培养计划,,,　来这...  ...  NaN  NaN  NaN   \n",
       "3                                                    0  ...  NaN  NaN  NaN   \n",
       "4    这个游戏现在有一个很大的问题，那就是车队问题。在白天屠夫排不到，晚上人类排不到。于是乎晚上我...  ...  NaN  NaN  NaN   \n",
       "..                                                 ...  ...  ...  ...  ...   \n",
       "366                                                NaN  ...  NaN  NaN  NaN   \n",
       "367  《Green,Project》是一款以探险为主的末日生存游戏，在这个荒凉并且被具有破坏性真菌...  ...  NaN  NaN  NaN   \n",
       "368                                                NaN  ...  NaN  NaN  NaN   \n",
       "369                                                NaN  ...  NaN  NaN  NaN   \n",
       "370                                                NaN  ...  NaN  NaN  NaN   \n",
       "\n",
       "     448  449  450  451  452  453  454  \n",
       "0    NaN  NaN  NaN  NaN  NaN  NaN  NaN  \n",
       "1    NaN  NaN  NaN  NaN  NaN  NaN  NaN  \n",
       "2    NaN  NaN  NaN  NaN  NaN  NaN  NaN  \n",
       "3    NaN  NaN  NaN  NaN  NaN  NaN  NaN  \n",
       "4    NaN  NaN  NaN  NaN  NaN  NaN  NaN  \n",
       "..   ...  ...  ...  ...  ...  ...  ...  \n",
       "366  NaN  NaN  NaN  NaN  NaN  NaN  NaN  \n",
       "367  NaN  NaN  NaN  NaN  NaN  NaN  NaN  \n",
       "368  NaN  NaN  NaN  NaN  NaN  NaN  NaN  \n",
       "369  NaN  NaN  NaN  NaN  NaN  NaN  NaN  \n",
       "370  NaN  NaN  NaN  NaN  NaN  NaN  NaN  \n",
       "\n",
       "[371 rows x 457 columns]"
      ]
     },
     "execution_count": 29,
     "metadata": {},
     "output_type": "execute_result"
    }
   ],
   "source": [
    "df_gdcm_sum = pd.read_excel('标签好评人数总和.xlsx')\n",
    "df_gdcm_sum = df_gdcm_sum.loc[:,['tag','SUM']]\n",
    "df_tag_cm = pd.read_excel('tag_cm.xlsx')\n",
    "merged_cm = pd.merge(df_gdcm_sum,df_tag_cm)\n",
    "merged_cm"
   ]
  },
  {
   "cell_type": "code",
   "execution_count": 30,
   "metadata": {},
   "outputs": [
    {
     "data": {
      "text/html": [
       "<div>\n",
       "<style scoped>\n",
       "    .dataframe tbody tr th:only-of-type {\n",
       "        vertical-align: middle;\n",
       "    }\n",
       "\n",
       "    .dataframe tbody tr th {\n",
       "        vertical-align: top;\n",
       "    }\n",
       "\n",
       "    .dataframe thead th {\n",
       "        text-align: right;\n",
       "    }\n",
       "</style>\n",
       "<table border=\"1\" class=\"dataframe\">\n",
       "  <thead>\n",
       "    <tr style=\"text-align: right;\">\n",
       "      <th></th>\n",
       "      <th>name</th>\n",
       "      <th>number</th>\n",
       "      <th>tag</th>\n",
       "    </tr>\n",
       "  </thead>\n",
       "  <tbody>\n",
       "    <tr>\n",
       "      <th>0</th>\n",
       "      <td>中文</td>\n",
       "      <td>868</td>\n",
       "      <td>Multiplayer</td>\n",
       "    </tr>\n",
       "    <tr>\n",
       "      <th>1</th>\n",
       "      <td>体验</td>\n",
       "      <td>698</td>\n",
       "      <td>Multiplayer</td>\n",
       "    </tr>\n",
       "    <tr>\n",
       "      <th>2</th>\n",
       "      <td>模式</td>\n",
       "      <td>653</td>\n",
       "      <td>Multiplayer</td>\n",
       "    </tr>\n",
       "    <tr>\n",
       "      <th>3</th>\n",
       "      <td>剧情</td>\n",
       "      <td>616</td>\n",
       "      <td>Multiplayer</td>\n",
       "    </tr>\n",
       "    <tr>\n",
       "      <th>4</th>\n",
       "      <td>时间</td>\n",
       "      <td>553</td>\n",
       "      <td>Multiplayer</td>\n",
       "    </tr>\n",
       "    <tr>\n",
       "      <th>...</th>\n",
       "      <td>...</td>\n",
       "      <td>...</td>\n",
       "      <td>...</td>\n",
       "    </tr>\n",
       "    <tr>\n",
       "      <th>5</th>\n",
       "      <td>种田</td>\n",
       "      <td>89</td>\n",
       "      <td>Loot</td>\n",
       "    </tr>\n",
       "    <tr>\n",
       "      <th>6</th>\n",
       "      <td>攻击</td>\n",
       "      <td>76</td>\n",
       "      <td>Loot</td>\n",
       "    </tr>\n",
       "    <tr>\n",
       "      <th>7</th>\n",
       "      <td>剧情</td>\n",
       "      <td>72</td>\n",
       "      <td>Loot</td>\n",
       "    </tr>\n",
       "    <tr>\n",
       "      <th>8</th>\n",
       "      <td>时间</td>\n",
       "      <td>69</td>\n",
       "      <td>Loot</td>\n",
       "    </tr>\n",
       "    <tr>\n",
       "      <th>9</th>\n",
       "      <td>内容</td>\n",
       "      <td>60</td>\n",
       "      <td>Loot</td>\n",
       "    </tr>\n",
       "  </tbody>\n",
       "</table>\n",
       "<p>100 rows × 3 columns</p>\n",
       "</div>"
      ],
      "text/plain": [
       "   name  number          tag\n",
       "0    中文     868  Multiplayer\n",
       "1    体验     698  Multiplayer\n",
       "2    模式     653  Multiplayer\n",
       "3    剧情     616  Multiplayer\n",
       "4    时间     553  Multiplayer\n",
       "..  ...     ...          ...\n",
       "5    种田      89         Loot\n",
       "6    攻击      76         Loot\n",
       "7    剧情      72         Loot\n",
       "8    时间      69         Loot\n",
       "9    内容      60         Loot\n",
       "\n",
       "[100 rows x 3 columns]"
      ]
     },
     "execution_count": 30,
     "metadata": {},
     "output_type": "execute_result"
    }
   ],
   "source": [
    "names = locals()\n",
    "i = 0\n",
    "for i in range(0,100,10):\n",
    "    names['x' + str(i)] = count_number(merged_cm.loc[i])\n",
    "    names['x' + str(i)]['tag'] = merged_cm.loc[i,'tag']\n",
    "merged_all = pd.concat([x0,x10,x20,x30,x40,x50,x60,x70,x80,x90])\n",
    "merged_all"
   ]
  },
  {
   "cell_type": "code",
   "execution_count": 32,
   "metadata": {},
   "outputs": [
    {
     "data": {
      "application/vnd.plotly.v1+json": {
       "config": {
        "plotlyServerURL": "https://plot.ly"
       },
       "data": [
        {
         "branchvalues": "total",
         "domain": {
          "x": [
           0,
           1
          ],
          "y": [
           0,
           1
          ]
         },
         "hovertemplate": "labels=%{label}<br>number=%{value}<br>parent=%{parent}<br>id=%{id}<extra></extra>",
         "ids": [
          "Thriller/ghost",
          "Dark/世界",
          "Psychological/世界",
          "Gore/中文",
          "Multiplayer/中文",
          "Competitive/人物",
          "FPS/人物",
          "Loot/人物",
          "Gore/人类",
          "Psychological/人类",
          "Competitive/体验",
          "Dark/体验",
          "FPS/体验",
          "Gore/体验",
          "Hack and Slash/体验",
          "Military/体验",
          "Multiplayer/体验",
          "Psychological/体验",
          "Thriller/作品",
          "Loot/内容",
          "Military/内容",
          "Competitive/剧情",
          "Dark/剧情",
          "FPS/剧情",
          "Gore/剧情",
          "Hack and Slash/剧情",
          "Loot/剧情",
          "Multiplayer/剧情",
          "Psychological/剧情",
          "Thriller/剧情",
          "Military/历史",
          "FPS/命运",
          "Loot/命运",
          "Hack and Slash/啊啊啊",
          "FPS/地图",
          "Gore/地图",
          "Hack and Slash/地图",
          "Loot/地图",
          "Military/地图",
          "Multiplayer/地图",
          "Military/坦克",
          "FPS/射击",
          "Gore/屠夫",
          "Psychological/屠夫",
          "Military/帝国时代",
          "Dark/恐怖",
          "Psychological/恐怖",
          "Thriller/恐怖",
          "Multiplayer/我要",
          "Military/战术",
          "Hack and Slash/技能",
          "Loot/技能",
          "Competitive/操作",
          "Loot/攻击",
          "Dark/攻略",
          "Gore/攻略",
          "Hack and Slash/故事",
          "FPS/敌人",
          "Gore/敌人",
          "Psychological/方式",
          "Dark/时间",
          "FPS/时间",
          "Loot/时间",
          "Military/时间",
          "Multiplayer/时间",
          "Multiplayer/朋友",
          "Dark/本作",
          "Thriller/本作",
          "Competitive/格斗",
          "Competitive/格斗游戏",
          "Competitive/模式",
          "FPS/模式",
          "Gore/模式",
          "Hack and Slash/模式",
          "Military/模式",
          "Multiplayer/模式",
          "FPS/武器",
          "Gore/武器",
          "Hack and Slash/武器",
          "Loot/武器",
          "Military/汉化",
          "Dark/玩法",
          "Psychological/玩法",
          "Competitive/画面",
          "Hack and Slash/画面",
          "Loot/种田",
          "Competitive/系统",
          "Hack and Slash/系统",
          "Multiplayer/系统",
          "Psychological/结局",
          "Thriller/结局",
          "Thriller/艾萨克",
          "Thriller/视角",
          "Competitive/角色",
          "Multiplayer/角色",
          "Dark/通关",
          "Psychological/通关",
          "Thriller/通关",
          "Dark/难度",
          "Thriller/鬼怪",
          "Competitive",
          "Dark",
          "FPS",
          "Gore",
          "Hack and Slash",
          "Loot",
          "Military",
          "Multiplayer",
          "Psychological",
          "Thriller"
         ],
         "labels": [
          "ghost",
          "世界",
          "世界",
          "中文",
          "中文",
          "人物",
          "人物",
          "人物",
          "人类",
          "人类",
          "体验",
          "体验",
          "体验",
          "体验",
          "体验",
          "体验",
          "体验",
          "体验",
          "作品",
          "内容",
          "内容",
          "剧情",
          "剧情",
          "剧情",
          "剧情",
          "剧情",
          "剧情",
          "剧情",
          "剧情",
          "剧情",
          "历史",
          "命运",
          "命运",
          "啊啊啊",
          "地图",
          "地图",
          "地图",
          "地图",
          "地图",
          "地图",
          "坦克",
          "射击",
          "屠夫",
          "屠夫",
          "帝国时代",
          "恐怖",
          "恐怖",
          "恐怖",
          "我要",
          "战术",
          "技能",
          "技能",
          "操作",
          "攻击",
          "攻略",
          "攻略",
          "故事",
          "敌人",
          "敌人",
          "方式",
          "时间",
          "时间",
          "时间",
          "时间",
          "时间",
          "朋友",
          "本作",
          "本作",
          "格斗",
          "格斗游戏",
          "模式",
          "模式",
          "模式",
          "模式",
          "模式",
          "模式",
          "武器",
          "武器",
          "武器",
          "武器",
          "汉化",
          "玩法",
          "玩法",
          "画面",
          "画面",
          "种田",
          "系统",
          "系统",
          "系统",
          "结局",
          "结局",
          "艾萨克",
          "视角",
          "角色",
          "角色",
          "通关",
          "通关",
          "通关",
          "难度",
          "鬼怪",
          "Competitive",
          "Dark",
          "FPS",
          "Gore",
          "Hack and Slash",
          "Loot",
          "Military",
          "Multiplayer",
          "Psychological",
          "Thriller"
         ],
         "name": "",
         "parents": [
          "Thriller",
          "Dark",
          "Psychological",
          "Gore",
          "Multiplayer",
          "Competitive",
          "FPS",
          "Loot",
          "Gore",
          "Psychological",
          "Competitive",
          "Dark",
          "FPS",
          "Gore",
          "Hack and Slash",
          "Military",
          "Multiplayer",
          "Psychological",
          "Thriller",
          "Loot",
          "Military",
          "Competitive",
          "Dark",
          "FPS",
          "Gore",
          "Hack and Slash",
          "Loot",
          "Multiplayer",
          "Psychological",
          "Thriller",
          "Military",
          "FPS",
          "Loot",
          "Hack and Slash",
          "FPS",
          "Gore",
          "Hack and Slash",
          "Loot",
          "Military",
          "Multiplayer",
          "Military",
          "FPS",
          "Gore",
          "Psychological",
          "Military",
          "Dark",
          "Psychological",
          "Thriller",
          "Multiplayer",
          "Military",
          "Hack and Slash",
          "Loot",
          "Competitive",
          "Loot",
          "Dark",
          "Gore",
          "Hack and Slash",
          "FPS",
          "Gore",
          "Psychological",
          "Dark",
          "FPS",
          "Loot",
          "Military",
          "Multiplayer",
          "Multiplayer",
          "Dark",
          "Thriller",
          "Competitive",
          "Competitive",
          "Competitive",
          "FPS",
          "Gore",
          "Hack and Slash",
          "Military",
          "Multiplayer",
          "FPS",
          "Gore",
          "Hack and Slash",
          "Loot",
          "Military",
          "Dark",
          "Psychological",
          "Competitive",
          "Hack and Slash",
          "Loot",
          "Competitive",
          "Hack and Slash",
          "Multiplayer",
          "Psychological",
          "Thriller",
          "Thriller",
          "Thriller",
          "Competitive",
          "Multiplayer",
          "Dark",
          "Psychological",
          "Thriller",
          "Dark",
          "Thriller",
          "",
          "",
          "",
          "",
          "",
          "",
          "",
          "",
          "",
          ""
         ],
         "type": "treemap",
         "values": [
          16,
          119,
          99,
          121,
          868,
          75,
          183,
          195,
          89,
          90,
          87,
          133,
          208,
          139,
          68,
          79,
          698,
          112,
          15,
          60,
          66,
          95,
          196,
          144,
          171,
          105,
          72,
          616,
          150,
          25,
          73,
          148,
          144,
          71,
          259,
          122,
          55,
          177,
          81,
          547,
          87,
          116,
          96,
          108,
          93,
          83,
          105,
          18,
          423,
          61,
          57,
          90,
          70,
          76,
          158,
          125,
          72,
          166,
          91,
          71,
          89,
          146,
          69,
          70,
          553,
          438,
          84,
          16,
          94,
          146,
          159,
          159,
          109,
          47,
          96,
          653,
          214,
          106,
          57,
          103,
          227,
          102,
          78,
          97,
          48,
          89,
          97,
          68,
          455,
          84,
          16,
          17,
          16,
          186,
          467,
          97,
          74,
          16,
          91,
          24,
          1106,
          1152,
          1743,
          1169,
          648,
          1075,
          933,
          5718,
          971,
          179
         ]
        }
       ],
       "layout": {
        "legend": {
         "tracegroupgap": 0
        },
        "margin": {
         "t": 60
        },
        "template": {
         "data": {
          "bar": [
           {
            "error_x": {
             "color": "#2a3f5f"
            },
            "error_y": {
             "color": "#2a3f5f"
            },
            "marker": {
             "line": {
              "color": "#E5ECF6",
              "width": 0.5
             }
            },
            "type": "bar"
           }
          ],
          "barpolar": [
           {
            "marker": {
             "line": {
              "color": "#E5ECF6",
              "width": 0.5
             }
            },
            "type": "barpolar"
           }
          ],
          "carpet": [
           {
            "aaxis": {
             "endlinecolor": "#2a3f5f",
             "gridcolor": "white",
             "linecolor": "white",
             "minorgridcolor": "white",
             "startlinecolor": "#2a3f5f"
            },
            "baxis": {
             "endlinecolor": "#2a3f5f",
             "gridcolor": "white",
             "linecolor": "white",
             "minorgridcolor": "white",
             "startlinecolor": "#2a3f5f"
            },
            "type": "carpet"
           }
          ],
          "choropleth": [
           {
            "colorbar": {
             "outlinewidth": 0,
             "ticks": ""
            },
            "type": "choropleth"
           }
          ],
          "contour": [
           {
            "colorbar": {
             "outlinewidth": 0,
             "ticks": ""
            },
            "colorscale": [
             [
              0,
              "#0d0887"
             ],
             [
              0.1111111111111111,
              "#46039f"
             ],
             [
              0.2222222222222222,
              "#7201a8"
             ],
             [
              0.3333333333333333,
              "#9c179e"
             ],
             [
              0.4444444444444444,
              "#bd3786"
             ],
             [
              0.5555555555555556,
              "#d8576b"
             ],
             [
              0.6666666666666666,
              "#ed7953"
             ],
             [
              0.7777777777777778,
              "#fb9f3a"
             ],
             [
              0.8888888888888888,
              "#fdca26"
             ],
             [
              1,
              "#f0f921"
             ]
            ],
            "type": "contour"
           }
          ],
          "contourcarpet": [
           {
            "colorbar": {
             "outlinewidth": 0,
             "ticks": ""
            },
            "type": "contourcarpet"
           }
          ],
          "heatmap": [
           {
            "colorbar": {
             "outlinewidth": 0,
             "ticks": ""
            },
            "colorscale": [
             [
              0,
              "#0d0887"
             ],
             [
              0.1111111111111111,
              "#46039f"
             ],
             [
              0.2222222222222222,
              "#7201a8"
             ],
             [
              0.3333333333333333,
              "#9c179e"
             ],
             [
              0.4444444444444444,
              "#bd3786"
             ],
             [
              0.5555555555555556,
              "#d8576b"
             ],
             [
              0.6666666666666666,
              "#ed7953"
             ],
             [
              0.7777777777777778,
              "#fb9f3a"
             ],
             [
              0.8888888888888888,
              "#fdca26"
             ],
             [
              1,
              "#f0f921"
             ]
            ],
            "type": "heatmap"
           }
          ],
          "heatmapgl": [
           {
            "colorbar": {
             "outlinewidth": 0,
             "ticks": ""
            },
            "colorscale": [
             [
              0,
              "#0d0887"
             ],
             [
              0.1111111111111111,
              "#46039f"
             ],
             [
              0.2222222222222222,
              "#7201a8"
             ],
             [
              0.3333333333333333,
              "#9c179e"
             ],
             [
              0.4444444444444444,
              "#bd3786"
             ],
             [
              0.5555555555555556,
              "#d8576b"
             ],
             [
              0.6666666666666666,
              "#ed7953"
             ],
             [
              0.7777777777777778,
              "#fb9f3a"
             ],
             [
              0.8888888888888888,
              "#fdca26"
             ],
             [
              1,
              "#f0f921"
             ]
            ],
            "type": "heatmapgl"
           }
          ],
          "histogram": [
           {
            "marker": {
             "colorbar": {
              "outlinewidth": 0,
              "ticks": ""
             }
            },
            "type": "histogram"
           }
          ],
          "histogram2d": [
           {
            "colorbar": {
             "outlinewidth": 0,
             "ticks": ""
            },
            "colorscale": [
             [
              0,
              "#0d0887"
             ],
             [
              0.1111111111111111,
              "#46039f"
             ],
             [
              0.2222222222222222,
              "#7201a8"
             ],
             [
              0.3333333333333333,
              "#9c179e"
             ],
             [
              0.4444444444444444,
              "#bd3786"
             ],
             [
              0.5555555555555556,
              "#d8576b"
             ],
             [
              0.6666666666666666,
              "#ed7953"
             ],
             [
              0.7777777777777778,
              "#fb9f3a"
             ],
             [
              0.8888888888888888,
              "#fdca26"
             ],
             [
              1,
              "#f0f921"
             ]
            ],
            "type": "histogram2d"
           }
          ],
          "histogram2dcontour": [
           {
            "colorbar": {
             "outlinewidth": 0,
             "ticks": ""
            },
            "colorscale": [
             [
              0,
              "#0d0887"
             ],
             [
              0.1111111111111111,
              "#46039f"
             ],
             [
              0.2222222222222222,
              "#7201a8"
             ],
             [
              0.3333333333333333,
              "#9c179e"
             ],
             [
              0.4444444444444444,
              "#bd3786"
             ],
             [
              0.5555555555555556,
              "#d8576b"
             ],
             [
              0.6666666666666666,
              "#ed7953"
             ],
             [
              0.7777777777777778,
              "#fb9f3a"
             ],
             [
              0.8888888888888888,
              "#fdca26"
             ],
             [
              1,
              "#f0f921"
             ]
            ],
            "type": "histogram2dcontour"
           }
          ],
          "mesh3d": [
           {
            "colorbar": {
             "outlinewidth": 0,
             "ticks": ""
            },
            "type": "mesh3d"
           }
          ],
          "parcoords": [
           {
            "line": {
             "colorbar": {
              "outlinewidth": 0,
              "ticks": ""
             }
            },
            "type": "parcoords"
           }
          ],
          "pie": [
           {
            "automargin": true,
            "type": "pie"
           }
          ],
          "scatter": [
           {
            "marker": {
             "colorbar": {
              "outlinewidth": 0,
              "ticks": ""
             }
            },
            "type": "scatter"
           }
          ],
          "scatter3d": [
           {
            "line": {
             "colorbar": {
              "outlinewidth": 0,
              "ticks": ""
             }
            },
            "marker": {
             "colorbar": {
              "outlinewidth": 0,
              "ticks": ""
             }
            },
            "type": "scatter3d"
           }
          ],
          "scattercarpet": [
           {
            "marker": {
             "colorbar": {
              "outlinewidth": 0,
              "ticks": ""
             }
            },
            "type": "scattercarpet"
           }
          ],
          "scattergeo": [
           {
            "marker": {
             "colorbar": {
              "outlinewidth": 0,
              "ticks": ""
             }
            },
            "type": "scattergeo"
           }
          ],
          "scattergl": [
           {
            "marker": {
             "colorbar": {
              "outlinewidth": 0,
              "ticks": ""
             }
            },
            "type": "scattergl"
           }
          ],
          "scattermapbox": [
           {
            "marker": {
             "colorbar": {
              "outlinewidth": 0,
              "ticks": ""
             }
            },
            "type": "scattermapbox"
           }
          ],
          "scatterpolar": [
           {
            "marker": {
             "colorbar": {
              "outlinewidth": 0,
              "ticks": ""
             }
            },
            "type": "scatterpolar"
           }
          ],
          "scatterpolargl": [
           {
            "marker": {
             "colorbar": {
              "outlinewidth": 0,
              "ticks": ""
             }
            },
            "type": "scatterpolargl"
           }
          ],
          "scatterternary": [
           {
            "marker": {
             "colorbar": {
              "outlinewidth": 0,
              "ticks": ""
             }
            },
            "type": "scatterternary"
           }
          ],
          "surface": [
           {
            "colorbar": {
             "outlinewidth": 0,
             "ticks": ""
            },
            "colorscale": [
             [
              0,
              "#0d0887"
             ],
             [
              0.1111111111111111,
              "#46039f"
             ],
             [
              0.2222222222222222,
              "#7201a8"
             ],
             [
              0.3333333333333333,
              "#9c179e"
             ],
             [
              0.4444444444444444,
              "#bd3786"
             ],
             [
              0.5555555555555556,
              "#d8576b"
             ],
             [
              0.6666666666666666,
              "#ed7953"
             ],
             [
              0.7777777777777778,
              "#fb9f3a"
             ],
             [
              0.8888888888888888,
              "#fdca26"
             ],
             [
              1,
              "#f0f921"
             ]
            ],
            "type": "surface"
           }
          ],
          "table": [
           {
            "cells": {
             "fill": {
              "color": "#EBF0F8"
             },
             "line": {
              "color": "white"
             }
            },
            "header": {
             "fill": {
              "color": "#C8D4E3"
             },
             "line": {
              "color": "white"
             }
            },
            "type": "table"
           }
          ]
         },
         "layout": {
          "annotationdefaults": {
           "arrowcolor": "#2a3f5f",
           "arrowhead": 0,
           "arrowwidth": 1
          },
          "coloraxis": {
           "colorbar": {
            "outlinewidth": 0,
            "ticks": ""
           }
          },
          "colorscale": {
           "diverging": [
            [
             0,
             "#8e0152"
            ],
            [
             0.1,
             "#c51b7d"
            ],
            [
             0.2,
             "#de77ae"
            ],
            [
             0.3,
             "#f1b6da"
            ],
            [
             0.4,
             "#fde0ef"
            ],
            [
             0.5,
             "#f7f7f7"
            ],
            [
             0.6,
             "#e6f5d0"
            ],
            [
             0.7,
             "#b8e186"
            ],
            [
             0.8,
             "#7fbc41"
            ],
            [
             0.9,
             "#4d9221"
            ],
            [
             1,
             "#276419"
            ]
           ],
           "sequential": [
            [
             0,
             "#0d0887"
            ],
            [
             0.1111111111111111,
             "#46039f"
            ],
            [
             0.2222222222222222,
             "#7201a8"
            ],
            [
             0.3333333333333333,
             "#9c179e"
            ],
            [
             0.4444444444444444,
             "#bd3786"
            ],
            [
             0.5555555555555556,
             "#d8576b"
            ],
            [
             0.6666666666666666,
             "#ed7953"
            ],
            [
             0.7777777777777778,
             "#fb9f3a"
            ],
            [
             0.8888888888888888,
             "#fdca26"
            ],
            [
             1,
             "#f0f921"
            ]
           ],
           "sequentialminus": [
            [
             0,
             "#0d0887"
            ],
            [
             0.1111111111111111,
             "#46039f"
            ],
            [
             0.2222222222222222,
             "#7201a8"
            ],
            [
             0.3333333333333333,
             "#9c179e"
            ],
            [
             0.4444444444444444,
             "#bd3786"
            ],
            [
             0.5555555555555556,
             "#d8576b"
            ],
            [
             0.6666666666666666,
             "#ed7953"
            ],
            [
             0.7777777777777778,
             "#fb9f3a"
            ],
            [
             0.8888888888888888,
             "#fdca26"
            ],
            [
             1,
             "#f0f921"
            ]
           ]
          },
          "colorway": [
           "#636efa",
           "#EF553B",
           "#00cc96",
           "#ab63fa",
           "#FFA15A",
           "#19d3f3",
           "#FF6692",
           "#B6E880",
           "#FF97FF",
           "#FECB52"
          ],
          "font": {
           "color": "#2a3f5f"
          },
          "geo": {
           "bgcolor": "white",
           "lakecolor": "white",
           "landcolor": "#E5ECF6",
           "showlakes": true,
           "showland": true,
           "subunitcolor": "white"
          },
          "hoverlabel": {
           "align": "left"
          },
          "hovermode": "closest",
          "mapbox": {
           "style": "light"
          },
          "paper_bgcolor": "white",
          "plot_bgcolor": "#E5ECF6",
          "polar": {
           "angularaxis": {
            "gridcolor": "white",
            "linecolor": "white",
            "ticks": ""
           },
           "bgcolor": "#E5ECF6",
           "radialaxis": {
            "gridcolor": "white",
            "linecolor": "white",
            "ticks": ""
           }
          },
          "scene": {
           "xaxis": {
            "backgroundcolor": "#E5ECF6",
            "gridcolor": "white",
            "gridwidth": 2,
            "linecolor": "white",
            "showbackground": true,
            "ticks": "",
            "zerolinecolor": "white"
           },
           "yaxis": {
            "backgroundcolor": "#E5ECF6",
            "gridcolor": "white",
            "gridwidth": 2,
            "linecolor": "white",
            "showbackground": true,
            "ticks": "",
            "zerolinecolor": "white"
           },
           "zaxis": {
            "backgroundcolor": "#E5ECF6",
            "gridcolor": "white",
            "gridwidth": 2,
            "linecolor": "white",
            "showbackground": true,
            "ticks": "",
            "zerolinecolor": "white"
           }
          },
          "shapedefaults": {
           "line": {
            "color": "#2a3f5f"
           }
          },
          "ternary": {
           "aaxis": {
            "gridcolor": "white",
            "linecolor": "white",
            "ticks": ""
           },
           "baxis": {
            "gridcolor": "white",
            "linecolor": "white",
            "ticks": ""
           },
           "bgcolor": "#E5ECF6",
           "caxis": {
            "gridcolor": "white",
            "linecolor": "white",
            "ticks": ""
           }
          },
          "title": {
           "x": 0.05
          },
          "xaxis": {
           "automargin": true,
           "gridcolor": "white",
           "linecolor": "white",
           "ticks": "",
           "title": {
            "standoff": 15
           },
           "zerolinecolor": "white",
           "zerolinewidth": 2
          },
          "yaxis": {
           "automargin": true,
           "gridcolor": "white",
           "linecolor": "white",
           "ticks": "",
           "title": {
            "standoff": 15
           },
           "zerolinecolor": "white",
           "zerolinewidth": 2
          }
         }
        }
       }
      },
      "text/html": [
       "<div>                            <div id=\"81a916bc-4b75-4e1c-80f1-de8aceba9f73\" class=\"plotly-graph-div\" style=\"height:525px; width:100%;\"></div>            <script type=\"text/javascript\">                require([\"plotly\"], function(Plotly) {                    window.PLOTLYENV=window.PLOTLYENV || {};                                    if (document.getElementById(\"81a916bc-4b75-4e1c-80f1-de8aceba9f73\")) {                    Plotly.newPlot(                        \"81a916bc-4b75-4e1c-80f1-de8aceba9f73\",                        [{\"branchvalues\": \"total\", \"domain\": {\"x\": [0.0, 1.0], \"y\": [0.0, 1.0]}, \"hovertemplate\": \"labels=%{label}<br>number=%{value}<br>parent=%{parent}<br>id=%{id}<extra></extra>\", \"ids\": [\"Thriller/ghost\", \"Dark/\\u4e16\\u754c\", \"Psychological/\\u4e16\\u754c\", \"Gore/\\u4e2d\\u6587\", \"Multiplayer/\\u4e2d\\u6587\", \"Competitive/\\u4eba\\u7269\", \"FPS/\\u4eba\\u7269\", \"Loot/\\u4eba\\u7269\", \"Gore/\\u4eba\\u7c7b\", \"Psychological/\\u4eba\\u7c7b\", \"Competitive/\\u4f53\\u9a8c\", \"Dark/\\u4f53\\u9a8c\", \"FPS/\\u4f53\\u9a8c\", \"Gore/\\u4f53\\u9a8c\", \"Hack and Slash/\\u4f53\\u9a8c\", \"Military/\\u4f53\\u9a8c\", \"Multiplayer/\\u4f53\\u9a8c\", \"Psychological/\\u4f53\\u9a8c\", \"Thriller/\\u4f5c\\u54c1\", \"Loot/\\u5185\\u5bb9\", \"Military/\\u5185\\u5bb9\", \"Competitive/\\u5267\\u60c5\", \"Dark/\\u5267\\u60c5\", \"FPS/\\u5267\\u60c5\", \"Gore/\\u5267\\u60c5\", \"Hack and Slash/\\u5267\\u60c5\", \"Loot/\\u5267\\u60c5\", \"Multiplayer/\\u5267\\u60c5\", \"Psychological/\\u5267\\u60c5\", \"Thriller/\\u5267\\u60c5\", \"Military/\\u5386\\u53f2\", \"FPS/\\u547d\\u8fd0\", \"Loot/\\u547d\\u8fd0\", \"Hack and Slash/\\u554a\\u554a\\u554a\", \"FPS/\\u5730\\u56fe\", \"Gore/\\u5730\\u56fe\", \"Hack and Slash/\\u5730\\u56fe\", \"Loot/\\u5730\\u56fe\", \"Military/\\u5730\\u56fe\", \"Multiplayer/\\u5730\\u56fe\", \"Military/\\u5766\\u514b\", \"FPS/\\u5c04\\u51fb\", \"Gore/\\u5c60\\u592b\", \"Psychological/\\u5c60\\u592b\", \"Military/\\u5e1d\\u56fd\\u65f6\\u4ee3\", \"Dark/\\u6050\\u6016\", \"Psychological/\\u6050\\u6016\", \"Thriller/\\u6050\\u6016\", \"Multiplayer/\\u6211\\u8981\", \"Military/\\u6218\\u672f\", \"Hack and Slash/\\u6280\\u80fd\", \"Loot/\\u6280\\u80fd\", \"Competitive/\\u64cd\\u4f5c\", \"Loot/\\u653b\\u51fb\", \"Dark/\\u653b\\u7565\", \"Gore/\\u653b\\u7565\", \"Hack and Slash/\\u6545\\u4e8b\", \"FPS/\\u654c\\u4eba\", \"Gore/\\u654c\\u4eba\", \"Psychological/\\u65b9\\u5f0f\", \"Dark/\\u65f6\\u95f4\", \"FPS/\\u65f6\\u95f4\", \"Loot/\\u65f6\\u95f4\", \"Military/\\u65f6\\u95f4\", \"Multiplayer/\\u65f6\\u95f4\", \"Multiplayer/\\u670b\\u53cb\", \"Dark/\\u672c\\u4f5c\", \"Thriller/\\u672c\\u4f5c\", \"Competitive/\\u683c\\u6597\", \"Competitive/\\u683c\\u6597\\u6e38\\u620f\", \"Competitive/\\u6a21\\u5f0f\", \"FPS/\\u6a21\\u5f0f\", \"Gore/\\u6a21\\u5f0f\", \"Hack and Slash/\\u6a21\\u5f0f\", \"Military/\\u6a21\\u5f0f\", \"Multiplayer/\\u6a21\\u5f0f\", \"FPS/\\u6b66\\u5668\", \"Gore/\\u6b66\\u5668\", \"Hack and Slash/\\u6b66\\u5668\", \"Loot/\\u6b66\\u5668\", \"Military/\\u6c49\\u5316\", \"Dark/\\u73a9\\u6cd5\", \"Psychological/\\u73a9\\u6cd5\", \"Competitive/\\u753b\\u9762\", \"Hack and Slash/\\u753b\\u9762\", \"Loot/\\u79cd\\u7530\", \"Competitive/\\u7cfb\\u7edf\", \"Hack and Slash/\\u7cfb\\u7edf\", \"Multiplayer/\\u7cfb\\u7edf\", \"Psychological/\\u7ed3\\u5c40\", \"Thriller/\\u7ed3\\u5c40\", \"Thriller/\\u827e\\u8428\\u514b\", \"Thriller/\\u89c6\\u89d2\", \"Competitive/\\u89d2\\u8272\", \"Multiplayer/\\u89d2\\u8272\", \"Dark/\\u901a\\u5173\", \"Psychological/\\u901a\\u5173\", \"Thriller/\\u901a\\u5173\", \"Dark/\\u96be\\u5ea6\", \"Thriller/\\u9b3c\\u602a\", \"Competitive\", \"Dark\", \"FPS\", \"Gore\", \"Hack and Slash\", \"Loot\", \"Military\", \"Multiplayer\", \"Psychological\", \"Thriller\"], \"labels\": [\"ghost\", \"\\u4e16\\u754c\", \"\\u4e16\\u754c\", \"\\u4e2d\\u6587\", \"\\u4e2d\\u6587\", \"\\u4eba\\u7269\", \"\\u4eba\\u7269\", \"\\u4eba\\u7269\", \"\\u4eba\\u7c7b\", \"\\u4eba\\u7c7b\", \"\\u4f53\\u9a8c\", \"\\u4f53\\u9a8c\", \"\\u4f53\\u9a8c\", \"\\u4f53\\u9a8c\", \"\\u4f53\\u9a8c\", \"\\u4f53\\u9a8c\", \"\\u4f53\\u9a8c\", \"\\u4f53\\u9a8c\", \"\\u4f5c\\u54c1\", \"\\u5185\\u5bb9\", \"\\u5185\\u5bb9\", \"\\u5267\\u60c5\", \"\\u5267\\u60c5\", \"\\u5267\\u60c5\", \"\\u5267\\u60c5\", \"\\u5267\\u60c5\", \"\\u5267\\u60c5\", \"\\u5267\\u60c5\", \"\\u5267\\u60c5\", \"\\u5267\\u60c5\", \"\\u5386\\u53f2\", \"\\u547d\\u8fd0\", \"\\u547d\\u8fd0\", \"\\u554a\\u554a\\u554a\", \"\\u5730\\u56fe\", \"\\u5730\\u56fe\", \"\\u5730\\u56fe\", \"\\u5730\\u56fe\", \"\\u5730\\u56fe\", \"\\u5730\\u56fe\", \"\\u5766\\u514b\", \"\\u5c04\\u51fb\", \"\\u5c60\\u592b\", \"\\u5c60\\u592b\", \"\\u5e1d\\u56fd\\u65f6\\u4ee3\", \"\\u6050\\u6016\", \"\\u6050\\u6016\", \"\\u6050\\u6016\", \"\\u6211\\u8981\", \"\\u6218\\u672f\", \"\\u6280\\u80fd\", \"\\u6280\\u80fd\", \"\\u64cd\\u4f5c\", \"\\u653b\\u51fb\", \"\\u653b\\u7565\", \"\\u653b\\u7565\", \"\\u6545\\u4e8b\", \"\\u654c\\u4eba\", \"\\u654c\\u4eba\", \"\\u65b9\\u5f0f\", \"\\u65f6\\u95f4\", \"\\u65f6\\u95f4\", \"\\u65f6\\u95f4\", \"\\u65f6\\u95f4\", \"\\u65f6\\u95f4\", \"\\u670b\\u53cb\", \"\\u672c\\u4f5c\", \"\\u672c\\u4f5c\", \"\\u683c\\u6597\", \"\\u683c\\u6597\\u6e38\\u620f\", \"\\u6a21\\u5f0f\", \"\\u6a21\\u5f0f\", \"\\u6a21\\u5f0f\", \"\\u6a21\\u5f0f\", \"\\u6a21\\u5f0f\", \"\\u6a21\\u5f0f\", \"\\u6b66\\u5668\", \"\\u6b66\\u5668\", \"\\u6b66\\u5668\", \"\\u6b66\\u5668\", \"\\u6c49\\u5316\", \"\\u73a9\\u6cd5\", \"\\u73a9\\u6cd5\", \"\\u753b\\u9762\", \"\\u753b\\u9762\", \"\\u79cd\\u7530\", \"\\u7cfb\\u7edf\", \"\\u7cfb\\u7edf\", \"\\u7cfb\\u7edf\", \"\\u7ed3\\u5c40\", \"\\u7ed3\\u5c40\", \"\\u827e\\u8428\\u514b\", \"\\u89c6\\u89d2\", \"\\u89d2\\u8272\", \"\\u89d2\\u8272\", \"\\u901a\\u5173\", \"\\u901a\\u5173\", \"\\u901a\\u5173\", \"\\u96be\\u5ea6\", \"\\u9b3c\\u602a\", \"Competitive\", \"Dark\", \"FPS\", \"Gore\", \"Hack and Slash\", \"Loot\", \"Military\", \"Multiplayer\", \"Psychological\", \"Thriller\"], \"name\": \"\", \"parents\": [\"Thriller\", \"Dark\", \"Psychological\", \"Gore\", \"Multiplayer\", \"Competitive\", \"FPS\", \"Loot\", \"Gore\", \"Psychological\", \"Competitive\", \"Dark\", \"FPS\", \"Gore\", \"Hack and Slash\", \"Military\", \"Multiplayer\", \"Psychological\", \"Thriller\", \"Loot\", \"Military\", \"Competitive\", \"Dark\", \"FPS\", \"Gore\", \"Hack and Slash\", \"Loot\", \"Multiplayer\", \"Psychological\", \"Thriller\", \"Military\", \"FPS\", \"Loot\", \"Hack and Slash\", \"FPS\", \"Gore\", \"Hack and Slash\", \"Loot\", \"Military\", \"Multiplayer\", \"Military\", \"FPS\", \"Gore\", \"Psychological\", \"Military\", \"Dark\", \"Psychological\", \"Thriller\", \"Multiplayer\", \"Military\", \"Hack and Slash\", \"Loot\", \"Competitive\", \"Loot\", \"Dark\", \"Gore\", \"Hack and Slash\", \"FPS\", \"Gore\", \"Psychological\", \"Dark\", \"FPS\", \"Loot\", \"Military\", \"Multiplayer\", \"Multiplayer\", \"Dark\", \"Thriller\", \"Competitive\", \"Competitive\", \"Competitive\", \"FPS\", \"Gore\", \"Hack and Slash\", \"Military\", \"Multiplayer\", \"FPS\", \"Gore\", \"Hack and Slash\", \"Loot\", \"Military\", \"Dark\", \"Psychological\", \"Competitive\", \"Hack and Slash\", \"Loot\", \"Competitive\", \"Hack and Slash\", \"Multiplayer\", \"Psychological\", \"Thriller\", \"Thriller\", \"Thriller\", \"Competitive\", \"Multiplayer\", \"Dark\", \"Psychological\", \"Thriller\", \"Dark\", \"Thriller\", \"\", \"\", \"\", \"\", \"\", \"\", \"\", \"\", \"\", \"\"], \"type\": \"treemap\", \"values\": [16, 119, 99, 121, 868, 75, 183, 195, 89, 90, 87, 133, 208, 139, 68, 79, 698, 112, 15, 60, 66, 95, 196, 144, 171, 105, 72, 616, 150, 25, 73, 148, 144, 71, 259, 122, 55, 177, 81, 547, 87, 116, 96, 108, 93, 83, 105, 18, 423, 61, 57, 90, 70, 76, 158, 125, 72, 166, 91, 71, 89, 146, 69, 70, 553, 438, 84, 16, 94, 146, 159, 159, 109, 47, 96, 653, 214, 106, 57, 103, 227, 102, 78, 97, 48, 89, 97, 68, 455, 84, 16, 17, 16, 186, 467, 97, 74, 16, 91, 24, 1106, 1152, 1743, 1169, 648, 1075, 933, 5718, 971, 179]}],                        {\"legend\": {\"tracegroupgap\": 0}, \"margin\": {\"t\": 60}, \"template\": {\"data\": {\"bar\": [{\"error_x\": {\"color\": \"#2a3f5f\"}, \"error_y\": {\"color\": \"#2a3f5f\"}, \"marker\": {\"line\": {\"color\": \"#E5ECF6\", \"width\": 0.5}}, \"type\": \"bar\"}], \"barpolar\": [{\"marker\": {\"line\": {\"color\": \"#E5ECF6\", \"width\": 0.5}}, \"type\": \"barpolar\"}], \"carpet\": [{\"aaxis\": {\"endlinecolor\": \"#2a3f5f\", \"gridcolor\": \"white\", \"linecolor\": \"white\", \"minorgridcolor\": \"white\", \"startlinecolor\": \"#2a3f5f\"}, \"baxis\": {\"endlinecolor\": \"#2a3f5f\", \"gridcolor\": \"white\", \"linecolor\": \"white\", \"minorgridcolor\": \"white\", \"startlinecolor\": \"#2a3f5f\"}, \"type\": \"carpet\"}], \"choropleth\": [{\"colorbar\": {\"outlinewidth\": 0, \"ticks\": \"\"}, \"type\": \"choropleth\"}], \"contour\": [{\"colorbar\": {\"outlinewidth\": 0, \"ticks\": \"\"}, \"colorscale\": [[0.0, \"#0d0887\"], [0.1111111111111111, \"#46039f\"], [0.2222222222222222, \"#7201a8\"], [0.3333333333333333, \"#9c179e\"], [0.4444444444444444, \"#bd3786\"], [0.5555555555555556, \"#d8576b\"], [0.6666666666666666, \"#ed7953\"], [0.7777777777777778, \"#fb9f3a\"], [0.8888888888888888, \"#fdca26\"], [1.0, \"#f0f921\"]], \"type\": \"contour\"}], \"contourcarpet\": [{\"colorbar\": {\"outlinewidth\": 0, \"ticks\": \"\"}, \"type\": \"contourcarpet\"}], \"heatmap\": [{\"colorbar\": {\"outlinewidth\": 0, \"ticks\": \"\"}, \"colorscale\": [[0.0, \"#0d0887\"], [0.1111111111111111, \"#46039f\"], [0.2222222222222222, \"#7201a8\"], [0.3333333333333333, \"#9c179e\"], [0.4444444444444444, \"#bd3786\"], [0.5555555555555556, \"#d8576b\"], [0.6666666666666666, \"#ed7953\"], [0.7777777777777778, \"#fb9f3a\"], [0.8888888888888888, \"#fdca26\"], [1.0, \"#f0f921\"]], \"type\": \"heatmap\"}], \"heatmapgl\": [{\"colorbar\": {\"outlinewidth\": 0, \"ticks\": \"\"}, \"colorscale\": [[0.0, \"#0d0887\"], [0.1111111111111111, \"#46039f\"], [0.2222222222222222, \"#7201a8\"], [0.3333333333333333, \"#9c179e\"], [0.4444444444444444, \"#bd3786\"], [0.5555555555555556, \"#d8576b\"], [0.6666666666666666, \"#ed7953\"], [0.7777777777777778, \"#fb9f3a\"], [0.8888888888888888, \"#fdca26\"], [1.0, \"#f0f921\"]], \"type\": \"heatmapgl\"}], \"histogram\": [{\"marker\": {\"colorbar\": {\"outlinewidth\": 0, \"ticks\": \"\"}}, \"type\": \"histogram\"}], \"histogram2d\": [{\"colorbar\": {\"outlinewidth\": 0, \"ticks\": \"\"}, \"colorscale\": [[0.0, \"#0d0887\"], [0.1111111111111111, \"#46039f\"], [0.2222222222222222, \"#7201a8\"], [0.3333333333333333, \"#9c179e\"], [0.4444444444444444, \"#bd3786\"], [0.5555555555555556, \"#d8576b\"], [0.6666666666666666, \"#ed7953\"], [0.7777777777777778, \"#fb9f3a\"], [0.8888888888888888, \"#fdca26\"], [1.0, \"#f0f921\"]], \"type\": \"histogram2d\"}], \"histogram2dcontour\": [{\"colorbar\": {\"outlinewidth\": 0, \"ticks\": \"\"}, \"colorscale\": [[0.0, \"#0d0887\"], [0.1111111111111111, \"#46039f\"], [0.2222222222222222, \"#7201a8\"], [0.3333333333333333, \"#9c179e\"], [0.4444444444444444, \"#bd3786\"], [0.5555555555555556, \"#d8576b\"], [0.6666666666666666, \"#ed7953\"], [0.7777777777777778, \"#fb9f3a\"], [0.8888888888888888, \"#fdca26\"], [1.0, \"#f0f921\"]], \"type\": \"histogram2dcontour\"}], \"mesh3d\": [{\"colorbar\": {\"outlinewidth\": 0, \"ticks\": \"\"}, \"type\": \"mesh3d\"}], \"parcoords\": [{\"line\": {\"colorbar\": {\"outlinewidth\": 0, \"ticks\": \"\"}}, \"type\": \"parcoords\"}], \"pie\": [{\"automargin\": true, \"type\": \"pie\"}], \"scatter\": [{\"marker\": {\"colorbar\": {\"outlinewidth\": 0, \"ticks\": \"\"}}, \"type\": \"scatter\"}], \"scatter3d\": [{\"line\": {\"colorbar\": {\"outlinewidth\": 0, \"ticks\": \"\"}}, \"marker\": {\"colorbar\": {\"outlinewidth\": 0, \"ticks\": \"\"}}, \"type\": \"scatter3d\"}], \"scattercarpet\": [{\"marker\": {\"colorbar\": {\"outlinewidth\": 0, \"ticks\": \"\"}}, \"type\": \"scattercarpet\"}], \"scattergeo\": [{\"marker\": {\"colorbar\": {\"outlinewidth\": 0, \"ticks\": \"\"}}, \"type\": \"scattergeo\"}], \"scattergl\": [{\"marker\": {\"colorbar\": {\"outlinewidth\": 0, \"ticks\": \"\"}}, \"type\": \"scattergl\"}], \"scattermapbox\": [{\"marker\": {\"colorbar\": {\"outlinewidth\": 0, \"ticks\": \"\"}}, \"type\": \"scattermapbox\"}], \"scatterpolar\": [{\"marker\": {\"colorbar\": {\"outlinewidth\": 0, \"ticks\": \"\"}}, \"type\": \"scatterpolar\"}], \"scatterpolargl\": [{\"marker\": {\"colorbar\": {\"outlinewidth\": 0, \"ticks\": \"\"}}, \"type\": \"scatterpolargl\"}], \"scatterternary\": [{\"marker\": {\"colorbar\": {\"outlinewidth\": 0, \"ticks\": \"\"}}, \"type\": \"scatterternary\"}], \"surface\": [{\"colorbar\": {\"outlinewidth\": 0, \"ticks\": \"\"}, \"colorscale\": [[0.0, \"#0d0887\"], [0.1111111111111111, \"#46039f\"], [0.2222222222222222, \"#7201a8\"], [0.3333333333333333, \"#9c179e\"], [0.4444444444444444, \"#bd3786\"], [0.5555555555555556, \"#d8576b\"], [0.6666666666666666, \"#ed7953\"], [0.7777777777777778, \"#fb9f3a\"], [0.8888888888888888, \"#fdca26\"], [1.0, \"#f0f921\"]], \"type\": \"surface\"}], \"table\": [{\"cells\": {\"fill\": {\"color\": \"#EBF0F8\"}, \"line\": {\"color\": \"white\"}}, \"header\": {\"fill\": {\"color\": \"#C8D4E3\"}, \"line\": {\"color\": \"white\"}}, \"type\": \"table\"}]}, \"layout\": {\"annotationdefaults\": {\"arrowcolor\": \"#2a3f5f\", \"arrowhead\": 0, \"arrowwidth\": 1}, \"coloraxis\": {\"colorbar\": {\"outlinewidth\": 0, \"ticks\": \"\"}}, \"colorscale\": {\"diverging\": [[0, \"#8e0152\"], [0.1, \"#c51b7d\"], [0.2, \"#de77ae\"], [0.3, \"#f1b6da\"], [0.4, \"#fde0ef\"], [0.5, \"#f7f7f7\"], [0.6, \"#e6f5d0\"], [0.7, \"#b8e186\"], [0.8, \"#7fbc41\"], [0.9, \"#4d9221\"], [1, \"#276419\"]], \"sequential\": [[0.0, \"#0d0887\"], [0.1111111111111111, \"#46039f\"], [0.2222222222222222, \"#7201a8\"], [0.3333333333333333, \"#9c179e\"], [0.4444444444444444, \"#bd3786\"], [0.5555555555555556, \"#d8576b\"], [0.6666666666666666, \"#ed7953\"], [0.7777777777777778, \"#fb9f3a\"], [0.8888888888888888, \"#fdca26\"], [1.0, \"#f0f921\"]], \"sequentialminus\": [[0.0, \"#0d0887\"], [0.1111111111111111, \"#46039f\"], [0.2222222222222222, \"#7201a8\"], [0.3333333333333333, \"#9c179e\"], [0.4444444444444444, \"#bd3786\"], [0.5555555555555556, \"#d8576b\"], [0.6666666666666666, \"#ed7953\"], [0.7777777777777778, \"#fb9f3a\"], [0.8888888888888888, \"#fdca26\"], [1.0, \"#f0f921\"]]}, \"colorway\": [\"#636efa\", \"#EF553B\", \"#00cc96\", \"#ab63fa\", \"#FFA15A\", \"#19d3f3\", \"#FF6692\", \"#B6E880\", \"#FF97FF\", \"#FECB52\"], \"font\": {\"color\": \"#2a3f5f\"}, \"geo\": {\"bgcolor\": \"white\", \"lakecolor\": \"white\", \"landcolor\": \"#E5ECF6\", \"showlakes\": true, \"showland\": true, \"subunitcolor\": \"white\"}, \"hoverlabel\": {\"align\": \"left\"}, \"hovermode\": \"closest\", \"mapbox\": {\"style\": \"light\"}, \"paper_bgcolor\": \"white\", \"plot_bgcolor\": \"#E5ECF6\", \"polar\": {\"angularaxis\": {\"gridcolor\": \"white\", \"linecolor\": \"white\", \"ticks\": \"\"}, \"bgcolor\": \"#E5ECF6\", \"radialaxis\": {\"gridcolor\": \"white\", \"linecolor\": \"white\", \"ticks\": \"\"}}, \"scene\": {\"xaxis\": {\"backgroundcolor\": \"#E5ECF6\", \"gridcolor\": \"white\", \"gridwidth\": 2, \"linecolor\": \"white\", \"showbackground\": true, \"ticks\": \"\", \"zerolinecolor\": \"white\"}, \"yaxis\": {\"backgroundcolor\": \"#E5ECF6\", \"gridcolor\": \"white\", \"gridwidth\": 2, \"linecolor\": \"white\", \"showbackground\": true, \"ticks\": \"\", \"zerolinecolor\": \"white\"}, \"zaxis\": {\"backgroundcolor\": \"#E5ECF6\", \"gridcolor\": \"white\", \"gridwidth\": 2, \"linecolor\": \"white\", \"showbackground\": true, \"ticks\": \"\", \"zerolinecolor\": \"white\"}}, \"shapedefaults\": {\"line\": {\"color\": \"#2a3f5f\"}}, \"ternary\": {\"aaxis\": {\"gridcolor\": \"white\", \"linecolor\": \"white\", \"ticks\": \"\"}, \"baxis\": {\"gridcolor\": \"white\", \"linecolor\": \"white\", \"ticks\": \"\"}, \"bgcolor\": \"#E5ECF6\", \"caxis\": {\"gridcolor\": \"white\", \"linecolor\": \"white\", \"ticks\": \"\"}}, \"title\": {\"x\": 0.05}, \"xaxis\": {\"automargin\": true, \"gridcolor\": \"white\", \"linecolor\": \"white\", \"ticks\": \"\", \"title\": {\"standoff\": 15}, \"zerolinecolor\": \"white\", \"zerolinewidth\": 2}, \"yaxis\": {\"automargin\": true, \"gridcolor\": \"white\", \"linecolor\": \"white\", \"ticks\": \"\", \"title\": {\"standoff\": 15}, \"zerolinecolor\": \"white\", \"zerolinewidth\": 2}}}},                        {\"responsive\": true}                    ).then(function(){\n",
       "                            \n",
       "var gd = document.getElementById('81a916bc-4b75-4e1c-80f1-de8aceba9f73');\n",
       "var x = new MutationObserver(function (mutations, observer) {{\n",
       "        var display = window.getComputedStyle(gd).display;\n",
       "        if (!display || display === 'none') {{\n",
       "            console.log([gd, 'removed!']);\n",
       "            Plotly.purge(gd);\n",
       "            observer.disconnect();\n",
       "        }}\n",
       "}});\n",
       "\n",
       "// Listen for the removal of the full notebook cells\n",
       "var notebookContainer = gd.closest('#notebook-container');\n",
       "if (notebookContainer) {{\n",
       "    x.observe(notebookContainer, {childList: true});\n",
       "}}\n",
       "\n",
       "// Listen for the clearing of the current output cell\n",
       "var outputEl = gd.closest('.output');\n",
       "if (outputEl) {{\n",
       "    x.observe(outputEl, {childList: true});\n",
       "}}\n",
       "\n",
       "                        })                };                });            </script>        </div>"
      ]
     },
     "metadata": {},
     "output_type": "display_data"
    },
    {
     "data": {
      "text/plain": [
       "'tag_count_words.html'"
      ]
     },
     "execution_count": 32,
     "metadata": {},
     "output_type": "execute_result"
    }
   ],
   "source": [
    "fig = px.treemap(merged_all, path = ['tag','name'], values=\"number\")\n",
    "fig.show()\n",
    "plotly.offline.plot(fig,filename = 'tag_count_words.html')"
   ]
  },
  {
   "cell_type": "code",
   "execution_count": null,
   "metadata": {},
   "outputs": [],
   "source": []
  }
 ],
 "metadata": {
  "kernelspec": {
   "display_name": "Python 3",
   "language": "python",
   "name": "python3"
  },
  "language_info": {
   "codemirror_mode": {
    "name": "ipython",
    "version": 3
   },
   "file_extension": ".py",
   "mimetype": "text/x-python",
   "name": "python",
   "nbconvert_exporter": "python",
   "pygments_lexer": "ipython3",
   "version": "3.8.3"
  }
 },
 "nbformat": 4,
 "nbformat_minor": 4
}
